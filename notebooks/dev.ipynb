{
 "cells": [
  {
   "cell_type": "code",
   "execution_count": 1,
   "metadata": {},
   "outputs": [],
   "source": [
    "import sys\n",
    "import os\n",
    "import pandas as pd\n",
    "import re"
   ]
  },
  {
   "cell_type": "code",
   "execution_count": 2,
   "metadata": {},
   "outputs": [
    {
     "name": "stderr",
     "output_type": "stream",
     "text": [
      "2023-05-05 16:36:44.110996: I tensorflow/tsl/cuda/cudart_stub.cc:28] Could not find cuda drivers on your machine, GPU will not be used.\n",
      "2023-05-05 16:36:44.311052: I tensorflow/tsl/cuda/cudart_stub.cc:28] Could not find cuda drivers on your machine, GPU will not be used.\n",
      "2023-05-05 16:36:44.312596: I tensorflow/core/platform/cpu_feature_guard.cc:182] This TensorFlow binary is optimized to use available CPU instructions in performance-critical operations.\n",
      "To enable the following instructions: AVX2 FMA, in other operations, rebuild TensorFlow with the appropriate compiler flags.\n",
      "2023-05-05 16:36:45.210608: W tensorflow/compiler/tf2tensorrt/utils/py_utils.cc:38] TF-TRT Warning: Could not find TensorRT\n",
      "[nltk_data] Downloading package stopwords to /home/stefan/nltk_data...\n",
      "[nltk_data]   Package stopwords is already up-to-date!\n"
     ]
    }
   ],
   "source": [
    "sys.path.append(\"../\")\n",
    "from src.tokenize_data import create_tokenizer, tokenize_text, remove_stop_words"
   ]
  },
  {
   "cell_type": "code",
   "execution_count": 3,
   "metadata": {},
   "outputs": [],
   "source": [
    "DATA_FOLDER = \"../data/genius_lyrics\"\n",
    "ARTISTS = [\"Travis Scott\", \"Queen\", \"The Beatles\"]"
   ]
  },
  {
   "attachments": {},
   "cell_type": "markdown",
   "metadata": {},
   "source": [
    "**getting the data into pandas**"
   ]
  },
  {
   "cell_type": "code",
   "execution_count": 4,
   "metadata": {},
   "outputs": [
    {
     "data": {
      "text/html": [
       "<div>\n",
       "<style scoped>\n",
       "    .dataframe tbody tr th:only-of-type {\n",
       "        vertical-align: middle;\n",
       "    }\n",
       "\n",
       "    .dataframe tbody tr th {\n",
       "        vertical-align: top;\n",
       "    }\n",
       "\n",
       "    .dataframe thead th {\n",
       "        text-align: right;\n",
       "    }\n",
       "</style>\n",
       "<table border=\"1\" class=\"dataframe\">\n",
       "  <thead>\n",
       "    <tr style=\"text-align: right;\">\n",
       "      <th></th>\n",
       "      <th>artist</th>\n",
       "      <th>title</th>\n",
       "      <th>lyrics</th>\n",
       "    </tr>\n",
       "  </thead>\n",
       "  <tbody>\n",
       "    <tr>\n",
       "      <th>0</th>\n",
       "      <td>Travis Scott</td>\n",
       "      <td>SICKO MODE</td>\n",
       "      <td>SICKO MODE Lyrics[Part I]\\n\\n[Intro: Drake]\\nA...</td>\n",
       "    </tr>\n",
       "    <tr>\n",
       "      <th>1</th>\n",
       "      <td>Travis Scott</td>\n",
       "      <td>​goosebumps</td>\n",
       "      <td>​goosebumps Lyrics[Intro: Travis Scott]\\nYeah\\...</td>\n",
       "    </tr>\n",
       "    <tr>\n",
       "      <th>2</th>\n",
       "      <td>Travis Scott</td>\n",
       "      <td>BUTTERFLY EFFECT</td>\n",
       "      <td>BUTTERFLY EFFECT Lyrics[Intro]\\nAll the commas...</td>\n",
       "    </tr>\n",
       "    <tr>\n",
       "      <th>3</th>\n",
       "      <td>Travis Scott</td>\n",
       "      <td>HIGHEST IN THE ROOM</td>\n",
       "      <td>HIGHEST IN THE ROOM Lyrics[Chorus]\\nI got room...</td>\n",
       "    </tr>\n",
       "    <tr>\n",
       "      <th>4</th>\n",
       "      <td>Travis Scott</td>\n",
       "      <td>Antidote</td>\n",
       "      <td>Antidote Lyrics[Chorus]\\nDon't you open up tha...</td>\n",
       "    </tr>\n",
       "  </tbody>\n",
       "</table>\n",
       "</div>"
      ],
      "text/plain": [
       "         artist                title   \n",
       "0  Travis Scott           SICKO MODE  \\\n",
       "1  Travis Scott          ​goosebumps   \n",
       "2  Travis Scott     BUTTERFLY EFFECT   \n",
       "3  Travis Scott  HIGHEST IN THE ROOM   \n",
       "4  Travis Scott             Antidote   \n",
       "\n",
       "                                              lyrics  \n",
       "0  SICKO MODE Lyrics[Part I]\\n\\n[Intro: Drake]\\nA...  \n",
       "1  ​goosebumps Lyrics[Intro: Travis Scott]\\nYeah\\...  \n",
       "2  BUTTERFLY EFFECT Lyrics[Intro]\\nAll the commas...  \n",
       "3  HIGHEST IN THE ROOM Lyrics[Chorus]\\nI got room...  \n",
       "4  Antidote Lyrics[Chorus]\\nDon't you open up tha...  "
      ]
     },
     "execution_count": 4,
     "metadata": {},
     "output_type": "execute_result"
    }
   ],
   "source": [
    "df = pd.DataFrame()\n",
    "for filename in os.listdir(DATA_FOLDER):\n",
    "    artist_name = filename.split('.')[0]\n",
    "    if artist_name in ARTISTS:\n",
    "        temp_df = pd.read_csv(os.path.join(DATA_FOLDER, filename),\n",
    "                usecols=['artist', 'title', 'lyrics'])\n",
    "        df = pd.concat([df, temp_df])\n",
    "\n",
    "df.head()"
   ]
  },
  {
   "cell_type": "code",
   "execution_count": 5,
   "metadata": {},
   "outputs": [
    {
     "data": {
      "text/plain": [
       "artist\n",
       "Travis Scott    100\n",
       "The Beatles     100\n",
       "Queen           100\n",
       "Name: count, dtype: int64"
      ]
     },
     "execution_count": 5,
     "metadata": {},
     "output_type": "execute_result"
    }
   ],
   "source": [
    "df.artist.value_counts()"
   ]
  },
  {
   "cell_type": "code",
   "execution_count": 6,
   "metadata": {},
   "outputs": [
    {
     "data": {
      "text/plain": [
       "'Mercy Lyrics\\nWell, it is'"
      ]
     },
     "execution_count": 6,
     "metadata": {},
     "output_type": "execute_result"
    }
   ],
   "source": [
    "sentence = \"Mercy Lyrics[Intro: Fuzzy Jones]\\nWell, it is\"\n",
    "sentence = re.sub(\"\\[.*\\]\", \"\", sentence)  \n",
    "sentence"
   ]
  },
  {
   "cell_type": "code",
   "execution_count": 7,
   "metadata": {},
   "outputs": [],
   "source": [
    "def clean_up_text(sentence):\n",
    "    sentence = str(sentence).lower()\n",
    "    sentence = re.sub(\"\\[.*\\]\", \"\", sentence)  # remove sections markings in brakets\n",
    "    sentence = re.sub(r'[^\\w]', ' ', sentence)  # romove punctuation\n",
    "    sentence = re.sub(r'[0-9]', '', sentence)  # remove numbers\n",
    "    sentence = re.sub(r'\\s[a-z]\\s', ' ', sentence)  # remove single characters\n",
    "    sentence = re.sub(r'^[a-z]\\s', '', sentence)  # remove single characters from the start\n",
    "    sentence = re.sub(r'\\s+', ' ', sentence).strip()  # remove extra spaces\n",
    "\n",
    "    sentence =  re.sub(r'.* lyrics', '', sentence)\n",
    "    \n",
    "\n",
    "    return sentence\n",
    "\n",
    "df.lyrics = df.lyrics.apply(clean_up_text)\n",
    "df.lyrics = df.lyrics.apply(remove_stop_words)"
   ]
  },
  {
   "cell_type": "code",
   "execution_count": 8,
   "metadata": {},
   "outputs": [
    {
     "data": {
      "text/html": [
       "<div>\n",
       "<style scoped>\n",
       "    .dataframe tbody tr th:only-of-type {\n",
       "        vertical-align: middle;\n",
       "    }\n",
       "\n",
       "    .dataframe tbody tr th {\n",
       "        vertical-align: top;\n",
       "    }\n",
       "\n",
       "    .dataframe thead th {\n",
       "        text-align: right;\n",
       "    }\n",
       "</style>\n",
       "<table border=\"1\" class=\"dataframe\">\n",
       "  <thead>\n",
       "    <tr style=\"text-align: right;\">\n",
       "      <th></th>\n",
       "      <th>artist</th>\n",
       "      <th>title</th>\n",
       "      <th>lyrics</th>\n",
       "    </tr>\n",
       "  </thead>\n",
       "  <tbody>\n",
       "    <tr>\n",
       "      <th>0</th>\n",
       "      <td>Travis Scott</td>\n",
       "      <td>16 Chapels</td>\n",
       "      <td>know feel like floating night slow move groove...</td>\n",
       "    </tr>\n",
       "    <tr>\n",
       "      <th>1</th>\n",
       "      <td>Travis Scott</td>\n",
       "      <td>3500</td>\n",
       "      <td>lyrics bandana wrapped wrapped round head band...</td>\n",
       "    </tr>\n",
       "    <tr>\n",
       "      <th>2</th>\n",
       "      <td>Travis Scott</td>\n",
       "      <td>5% TINT</td>\n",
       "      <td>creeping window fore come outside got took end...</td>\n",
       "    </tr>\n",
       "    <tr>\n",
       "      <th>3</th>\n",
       "      <td>Travis Scott</td>\n",
       "      <td>90210</td>\n",
       "      <td>lyrics dean poppin yo travis mhm ooh ooh ooh o...</td>\n",
       "    </tr>\n",
       "    <tr>\n",
       "      <th>4</th>\n",
       "      <td>The Beatles</td>\n",
       "      <td>A Day in the Life</td>\n",
       "      <td>read news today oh boy lucky man made grade th...</td>\n",
       "    </tr>\n",
       "  </tbody>\n",
       "</table>\n",
       "</div>"
      ],
      "text/plain": [
       "         artist              title   \n",
       "0  Travis Scott         16 Chapels  \\\n",
       "1  Travis Scott               3500   \n",
       "2  Travis Scott            5% TINT   \n",
       "3  Travis Scott              90210   \n",
       "4   The Beatles  A Day in the Life   \n",
       "\n",
       "                                              lyrics  \n",
       "0  know feel like floating night slow move groove...  \n",
       "1  lyrics bandana wrapped wrapped round head band...  \n",
       "2  creeping window fore come outside got took end...  \n",
       "3  lyrics dean poppin yo travis mhm ooh ooh ooh o...  \n",
       "4  read news today oh boy lucky man made grade th...  "
      ]
     },
     "execution_count": 8,
     "metadata": {},
     "output_type": "execute_result"
    }
   ],
   "source": [
    "df = df.sort_values(by='title')\n",
    "df = df.reset_index(drop=True)\n",
    "df.head()"
   ]
  },
  {
   "attachments": {},
   "cell_type": "markdown",
   "metadata": {},
   "source": [
    "**lets get those embeddings**"
   ]
  },
  {
   "cell_type": "code",
   "execution_count": 9,
   "metadata": {},
   "outputs": [
    {
     "name": "stderr",
     "output_type": "stream",
     "text": [
      "Some weights of the model checkpoint at roberta-base were not used when initializing RobertaModel: ['lm_head.layer_norm.bias', 'lm_head.layer_norm.weight', 'lm_head.dense.bias', 'lm_head.dense.weight', 'lm_head.decoder.weight', 'lm_head.bias']\n",
      "- This IS expected if you are initializing RobertaModel from the checkpoint of a model trained on another task or with another architecture (e.g. initializing a BertForSequenceClassification model from a BertForPreTraining model).\n",
      "- This IS NOT expected if you are initializing RobertaModel from the checkpoint of a model that you expect to be exactly identical (initializing a BertForSequenceClassification model from a BertForSequenceClassification model).\n"
     ]
    },
    {
     "data": {
      "text/html": [
       "<div>\n",
       "<style scoped>\n",
       "    .dataframe tbody tr th:only-of-type {\n",
       "        vertical-align: middle;\n",
       "    }\n",
       "\n",
       "    .dataframe tbody tr th {\n",
       "        vertical-align: top;\n",
       "    }\n",
       "\n",
       "    .dataframe thead th {\n",
       "        text-align: right;\n",
       "    }\n",
       "</style>\n",
       "<table border=\"1\" class=\"dataframe\">\n",
       "  <thead>\n",
       "    <tr style=\"text-align: right;\">\n",
       "      <th></th>\n",
       "      <th>vectors</th>\n",
       "    </tr>\n",
       "  </thead>\n",
       "  <tbody>\n",
       "    <tr>\n",
       "      <th>0</th>\n",
       "      <td>[tensor(0.0428), tensor(-0.0517), tensor(0.122...</td>\n",
       "    </tr>\n",
       "    <tr>\n",
       "      <th>1</th>\n",
       "      <td>[tensor(-0.0514), tensor(-0.0310), tensor(0.10...</td>\n",
       "    </tr>\n",
       "    <tr>\n",
       "      <th>2</th>\n",
       "      <td>[tensor(-0.0152), tensor(-0.0518), tensor(0.13...</td>\n",
       "    </tr>\n",
       "    <tr>\n",
       "      <th>3</th>\n",
       "      <td>[tensor(0.0536), tensor(-0.0091), tensor(0.084...</td>\n",
       "    </tr>\n",
       "    <tr>\n",
       "      <th>4</th>\n",
       "      <td>[tensor(0.0712), tensor(-0.1449), tensor(0.043...</td>\n",
       "    </tr>\n",
       "  </tbody>\n",
       "</table>\n",
       "</div>"
      ],
      "text/plain": [
       "                                             vectors\n",
       "0  [tensor(0.0428), tensor(-0.0517), tensor(0.122...\n",
       "1  [tensor(-0.0514), tensor(-0.0310), tensor(0.10...\n",
       "2  [tensor(-0.0152), tensor(-0.0518), tensor(0.13...\n",
       "3  [tensor(0.0536), tensor(-0.0091), tensor(0.084...\n",
       "4  [tensor(0.0712), tensor(-0.1449), tensor(0.043..."
      ]
     },
     "execution_count": 9,
     "metadata": {},
     "output_type": "execute_result"
    }
   ],
   "source": [
    "import torch\n",
    "from transformers import RobertaTokenizer, RobertaModel\n",
    "\n",
    "tokenizer = RobertaTokenizer.from_pretrained('roberta-base')\n",
    "model = RobertaModel.from_pretrained('roberta-base')\n",
    "\n",
    "\n",
    "def embed(sentence):\n",
    "    tokens = tokenizer.encode_plus(sentence, add_special_tokens=True, max_length=512, return_token_type_ids=True, padding=\"max_length\", truncation=True)\n",
    "    input_ids = torch.tensor(tokens['input_ids']).unsqueeze(0)\n",
    "    attention_mask = torch.tensor(tokens['attention_mask']).unsqueeze(0)\n",
    "    with torch.no_grad():\n",
    "        outputs = model(input_ids, attention_mask=attention_mask)\n",
    "    sentence_embedding = torch.mean(outputs[0], dim=1).squeeze()\n",
    "    return sentence_embedding\n",
    "\n",
    "\n",
    "df_dataset = pd.DataFrame()\n",
    "df_dataset['vectors'] = df['lyrics'].apply(embed)\n",
    "df_dataset.head()"
   ]
  },
  {
   "cell_type": "code",
   "execution_count": 10,
   "metadata": {},
   "outputs": [
    {
     "data": {
      "text/plain": [
       "array(['Travis Scott', 'The Beatles', 'Queen'], dtype=object)"
      ]
     },
     "execution_count": 10,
     "metadata": {},
     "output_type": "execute_result"
    }
   ],
   "source": [
    "df.artist.unique()"
   ]
  },
  {
   "cell_type": "code",
   "execution_count": 11,
   "metadata": {},
   "outputs": [
    {
     "data": {
      "text/plain": [
       "tensor([0, 0, 1])"
      ]
     },
     "execution_count": 11,
     "metadata": {},
     "output_type": "execute_result"
    }
   ],
   "source": [
    "stt = {\n",
    "    'Travis Scott': torch.tensor([1, 0, 0]),\n",
    "    'The Beatles': torch.tensor([0, 1, 0]),\n",
    "    'Queen': torch.tensor([0, 0, 1])\n",
    "}\n",
    "\n",
    "tts = {\n",
    "    str(torch.tensor([1, 0, 0])): 'Travis Scott',\n",
    "    str(torch.tensor([1, 0, 0])): 'The Beatles',\n",
    "    str(torch.tensor([1, 0, 0])): 'Queen'\n",
    "}\n",
    "\n",
    "def encode_label(label: str):\n",
    "    return stt[label]\n",
    "\n",
    "def decode_label(label: torch.tensor) -> str:\n",
    "    return tts[str(label)]\n",
    "\n",
    "encode_label(\"Queen\")"
   ]
  },
  {
   "cell_type": "code",
   "execution_count": 12,
   "metadata": {},
   "outputs": [
    {
     "data": {
      "text/html": [
       "<div>\n",
       "<style scoped>\n",
       "    .dataframe tbody tr th:only-of-type {\n",
       "        vertical-align: middle;\n",
       "    }\n",
       "\n",
       "    .dataframe tbody tr th {\n",
       "        vertical-align: top;\n",
       "    }\n",
       "\n",
       "    .dataframe thead th {\n",
       "        text-align: right;\n",
       "    }\n",
       "</style>\n",
       "<table border=\"1\" class=\"dataframe\">\n",
       "  <thead>\n",
       "    <tr style=\"text-align: right;\">\n",
       "      <th></th>\n",
       "      <th>vectors</th>\n",
       "      <th>artist</th>\n",
       "    </tr>\n",
       "  </thead>\n",
       "  <tbody>\n",
       "    <tr>\n",
       "      <th>0</th>\n",
       "      <td>[tensor(0.0428), tensor(-0.0517), tensor(0.122...</td>\n",
       "      <td>[tensor(1), tensor(0), tensor(0)]</td>\n",
       "    </tr>\n",
       "    <tr>\n",
       "      <th>1</th>\n",
       "      <td>[tensor(-0.0514), tensor(-0.0310), tensor(0.10...</td>\n",
       "      <td>[tensor(1), tensor(0), tensor(0)]</td>\n",
       "    </tr>\n",
       "    <tr>\n",
       "      <th>2</th>\n",
       "      <td>[tensor(-0.0152), tensor(-0.0518), tensor(0.13...</td>\n",
       "      <td>[tensor(1), tensor(0), tensor(0)]</td>\n",
       "    </tr>\n",
       "    <tr>\n",
       "      <th>3</th>\n",
       "      <td>[tensor(0.0536), tensor(-0.0091), tensor(0.084...</td>\n",
       "      <td>[tensor(1), tensor(0), tensor(0)]</td>\n",
       "    </tr>\n",
       "    <tr>\n",
       "      <th>4</th>\n",
       "      <td>[tensor(0.0712), tensor(-0.1449), tensor(0.043...</td>\n",
       "      <td>[tensor(0), tensor(1), tensor(0)]</td>\n",
       "    </tr>\n",
       "  </tbody>\n",
       "</table>\n",
       "</div>"
      ],
      "text/plain": [
       "                                             vectors   \n",
       "0  [tensor(0.0428), tensor(-0.0517), tensor(0.122...  \\\n",
       "1  [tensor(-0.0514), tensor(-0.0310), tensor(0.10...   \n",
       "2  [tensor(-0.0152), tensor(-0.0518), tensor(0.13...   \n",
       "3  [tensor(0.0536), tensor(-0.0091), tensor(0.084...   \n",
       "4  [tensor(0.0712), tensor(-0.1449), tensor(0.043...   \n",
       "\n",
       "                              artist  \n",
       "0  [tensor(1), tensor(0), tensor(0)]  \n",
       "1  [tensor(1), tensor(0), tensor(0)]  \n",
       "2  [tensor(1), tensor(0), tensor(0)]  \n",
       "3  [tensor(1), tensor(0), tensor(0)]  \n",
       "4  [tensor(0), tensor(1), tensor(0)]  "
      ]
     },
     "execution_count": 12,
     "metadata": {},
     "output_type": "execute_result"
    }
   ],
   "source": [
    "df_dataset['artist'] = df['artist'].apply(encode_label)\n",
    "df_dataset.head()"
   ]
  },
  {
   "attachments": {},
   "cell_type": "markdown",
   "metadata": {},
   "source": [
    "**model??**\n",
    "\n",
    "let's see if you really trap"
   ]
  },
  {
   "cell_type": "code",
   "execution_count": 77,
   "metadata": {},
   "outputs": [],
   "source": [
    "import torch\n",
    "import torch.nn as nn\n",
    "import torch.nn.functional as F\n",
    "from torch.utils.data import Dataset, DataLoader"
   ]
  },
  {
   "cell_type": "code",
   "execution_count": 78,
   "metadata": {},
   "outputs": [],
   "source": [
    "device = torch.device(\"cuda\" if torch.cuda.is_available() else \"cpu\")"
   ]
  },
  {
   "cell_type": "code",
   "execution_count": 79,
   "metadata": {},
   "outputs": [],
   "source": [
    "class Net(nn.Module):\n",
    "\n",
    "    def __init__(self, input_units, output_units):\n",
    "        super(Net, self).__init__()\n",
    "        self.fc1 = nn.Linear(input_units, 1024)\n",
    "        self.fc2 = nn.Linear(1024, 2048)\n",
    "        self.fc3 = nn.Linear(2048, 4096)\n",
    "        self.fc4 = nn.Linear(4096, 2048)\n",
    "        self.fc5 = nn.Linear(2048, 2048)\n",
    "        self.fc6 = nn.Linear(2048, 84)\n",
    "        self.fc7 = nn.Linear(84, output_units)\n",
    "\n",
    "    def forward(self, x):\n",
    "        x = F.relu(self.fc1(x))\n",
    "        x = F.relu(self.fc2(x))\n",
    "        x = F.relu(self.fc3(x))\n",
    "        x = F.relu(self.fc4(x))\n",
    "        x = F.relu(self.fc5(x))\n",
    "        x = F.relu(self.fc6(x))\n",
    "        x = F.softmax(self.fc7(x), dim=1)\n",
    "        return x"
   ]
  },
  {
   "attachments": {},
   "cell_type": "markdown",
   "metadata": {},
   "source": [
    "**turn of the autotune(copilot)\\\n",
    "lets see if you really rap**"
   ]
  },
  {
   "cell_type": "code",
   "execution_count": 80,
   "metadata": {},
   "outputs": [],
   "source": [
    "# CONSTANTS\n",
    "torch.manual_seed(42)\n",
    "train_size = 0.8\n",
    "learning_rate = 0.00001\n",
    "num_epochs = 10"
   ]
  },
  {
   "cell_type": "code",
   "execution_count": 81,
   "metadata": {},
   "outputs": [],
   "source": [
    "class MyDataset(Dataset):\n",
    "    def __init__(self, dataframe):\n",
    "        self.data = dataframe.values\n",
    "\n",
    "    def __len__(self):\n",
    "        return len(self.data)\n",
    "\n",
    "    def __getitem__(self, idx):\n",
    "        return torch.stack(list(self.data[idx, 0])), torch.stack(list(self.data[idx, -1]))\n",
    "    \n",
    "split = int(train_size * len(df_dataset))\n",
    "train_dataset = MyDataset(df_dataset[:split])\n",
    "test_dataset = MyDataset(df_dataset[split:])\n",
    "\n",
    "criterion = nn.CrossEntropyLoss()\n",
    "optimizer = torch.optim.Adam(model.parameters(), lr=learning_rate)"
   ]
  },
  {
   "cell_type": "code",
   "execution_count": 82,
   "metadata": {},
   "outputs": [],
   "source": [
    "train_dataloader = DataLoader(train_dataset, batch_size=32, shuffle=True)\n",
    "test_dataloader = DataLoader(test_dataset, batch_size=32, shuffle=True)"
   ]
  },
  {
   "attachments": {},
   "cell_type": "markdown",
   "metadata": {},
   "source": [
    "**training**"
   ]
  },
  {
   "cell_type": "code",
   "execution_count": 84,
   "metadata": {},
   "outputs": [],
   "source": [
    "def multi_class_accuracy(preds: torch.Tensor, target: torch.Tensor) -> float:\n",
    "    return ((torch.argmax(preds, dim=1) == torch.argmax(target, dim=1)) * 1).sum()\\\n",
    "        / target.shape[0]"
   ]
  },
  {
   "cell_type": "code",
   "execution_count": 85,
   "metadata": {},
   "outputs": [
    {
     "name": "stdout",
     "output_type": "stream",
     "text": [
      "Epoch 1/10\n",
      "🔨Train loss: 0.5902 || Train acc: 0.9609\n",
      "🧐Test loss: 0.7095 || Test acc: 0.8504\n",
      "Epoch 2/10\n",
      "🔨Train loss: 0.5875 || Train acc: 0.9648\n",
      "🧐Test loss: 0.7203 || Test acc: 0.8103\n",
      "Epoch 3/10\n",
      "🔨Train loss: 0.5912 || Train acc: 0.9609\n",
      "🧐Test loss: 0.7038 || Test acc: 0.8504\n",
      "Epoch 4/10\n",
      "🔨Train loss: 0.5904 || Train acc: 0.9648\n",
      "🧐Test loss: 0.7106 || Test acc: 0.8170\n",
      "Epoch 5/10\n",
      "🔨Train loss: 0.5889 || Train acc: 0.9648\n",
      "🧐Test loss: 0.7119 || Test acc: 0.8460\n",
      "Epoch 6/10\n",
      "🔨Train loss: 0.5842 || Train acc: 0.9688\n",
      "🧐Test loss: 0.7148 || Test acc: 0.8170\n",
      "Epoch 7/10\n",
      "🔨Train loss: 0.5877 || Train acc: 0.9648\n",
      "🧐Test loss: 0.7098 || Test acc: 0.8638\n",
      "Epoch 8/10\n",
      "🔨Train loss: 0.5876 || Train acc: 0.9648\n",
      "🧐Test loss: 0.7096 || Test acc: 0.8170\n",
      "Epoch 9/10\n",
      "🔨Train loss: 0.5836 || Train acc: 0.9688\n",
      "🧐Test loss: 0.7042 || Test acc: 0.8705\n",
      "Epoch 10/10\n",
      "🔨Train loss: 0.5836 || Train acc: 0.9688\n",
      "🧐Test loss: 0.7084 || Test acc: 0.8214\n"
     ]
    }
   ],
   "source": [
    "def train_pass(\n",
    "    model: torch.nn.Module,\n",
    "    dataset: list,\n",
    "    loss_function: torch.nn.Module,\n",
    "    optimizer: torch.optim.Optimizer,\n",
    "    accuracy_function,\n",
    "    device: torch.device=device,\n",
    "    display: bool=False) -> dict:\n",
    "    \n",
    "    model.train()\n",
    "    train_acc, train_loss = 0, 0\n",
    "    N = len(dataset)\n",
    "\n",
    "    for batch, (X, y) in enumerate(dataset):\n",
    "        X, y = X.to(device).float(), y.to(device).float()\n",
    "        # forward pass\n",
    "        y_pred = model(X)\n",
    "        loss = loss_function(input=y_pred, target=y)\n",
    "\n",
    "        train_acc += accuracy_function(preds=y_pred, target=y)\n",
    "        train_loss += loss\n",
    "\n",
    "        # backward pass\n",
    "        optimizer.zero_grad()\n",
    "        loss.backward()\n",
    "        optimizer.step()\n",
    "\n",
    "    train_loss /= N\n",
    "    train_acc /= N\n",
    "\n",
    "    if display:\n",
    "        print(f'🔨Train loss: {train_loss:.4f} || Train acc: {train_acc:.4f}')\n",
    "\n",
    "    results = {\n",
    "        'train_loss': train_loss,\n",
    "        'train_accuracy': train_acc\n",
    "    }\n",
    "\n",
    "    return results\n",
    "\n",
    "\n",
    "def test_pass(\n",
    "    dataset,\n",
    "    model: torch.nn.Module,\n",
    "    loss_function: torch.nn.Module,\n",
    "    accuracy_function,\n",
    "    device: torch.device=device,\n",
    "    display: bool=False) -> dict:\n",
    "\n",
    "    test_loss, test_acc = 0, 0\n",
    "    N = len(dataset)\n",
    "\n",
    "    for batch, (X, y) in enumerate(dataset):\n",
    "        # sending data to right device\n",
    "        X, y = X.to(device).float(), y.to(device).float()\n",
    "\n",
    "        # forward pass\n",
    "        test_pred = model(X)\n",
    "        test_loss += loss_function(input=test_pred, target=y)\n",
    "\n",
    "        # print(y_pred.shape, y.shape)\n",
    "        test_acc += accuracy_function(preds=test_pred, target=y)\n",
    "\n",
    "    test_loss /= N\n",
    "    test_acc /= N\n",
    "    if display:\n",
    "        print(f'🧐Test loss: {test_loss:.4f} || Test acc: {test_acc:.4f}')\n",
    "\n",
    "    results = {\n",
    "        'test_loss': test_loss.cpu().detach().float(),\n",
    "        'test_accuracy': test_acc.cpu().detach().float()\n",
    "    }\n",
    "\n",
    "    return results\n",
    "\n",
    "\n",
    "for n, epoch in enumerate(range(num_epochs)):\n",
    "    print(f'Epoch {n+1}/{num_epochs}')\n",
    "    train_results = train_pass(\n",
    "        model=model,\n",
    "        dataset=train_dataloader,\n",
    "        loss_function=criterion,\n",
    "        optimizer=optimizer,\n",
    "        accuracy_function=multi_class_accuracy,\n",
    "        device=device,\n",
    "        display=True\n",
    "    )\n",
    "\n",
    "    test_results = test_pass(\n",
    "        dataset=test_dataloader,\n",
    "        model=model,\n",
    "        loss_function=criterion,\n",
    "        accuracy_function=multi_class_accuracy,\n",
    "        device=device,\n",
    "        display=True\n",
    "    )"
   ]
  },
  {
   "cell_type": "code",
   "execution_count": null,
   "metadata": {},
   "outputs": [],
   "source": []
  }
 ],
 "metadata": {
  "kernelspec": {
   "display_name": "samsung-venv",
   "language": "python",
   "name": "python3"
  },
  "language_info": {
   "codemirror_mode": {
    "name": "ipython",
    "version": 3
   },
   "file_extension": ".py",
   "mimetype": "text/x-python",
   "name": "python",
   "nbconvert_exporter": "python",
   "pygments_lexer": "ipython3",
   "version": "3.10.6"
  },
  "orig_nbformat": 4,
  "vscode": {
   "interpreter": {
    "hash": "e45c6efbcd79cd7473ed712f971cb7abd2c2692e182cafe90473b71e016b4287"
   }
  }
 },
 "nbformat": 4,
 "nbformat_minor": 2
}
