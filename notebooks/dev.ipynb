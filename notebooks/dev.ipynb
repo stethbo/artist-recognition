{
 "cells": [
  {
   "cell_type": "code",
   "execution_count": 1,
   "metadata": {},
   "outputs": [],
   "source": [
    "import sys\n",
    "import os\n",
    "import pandas as pd\n",
    "import re"
   ]
  },
  {
   "cell_type": "code",
   "execution_count": 2,
   "metadata": {},
   "outputs": [
    {
     "name": "stderr",
     "output_type": "stream",
     "text": [
      "2023-05-06 16:00:59.111786: I tensorflow/tsl/cuda/cudart_stub.cc:28] Could not find cuda drivers on your machine, GPU will not be used.\n",
      "2023-05-06 16:00:59.302860: I tensorflow/tsl/cuda/cudart_stub.cc:28] Could not find cuda drivers on your machine, GPU will not be used.\n",
      "2023-05-06 16:00:59.303791: I tensorflow/core/platform/cpu_feature_guard.cc:182] This TensorFlow binary is optimized to use available CPU instructions in performance-critical operations.\n",
      "To enable the following instructions: AVX2 FMA, in other operations, rebuild TensorFlow with the appropriate compiler flags.\n",
      "2023-05-06 16:01:00.171255: W tensorflow/compiler/tf2tensorrt/utils/py_utils.cc:38] TF-TRT Warning: Could not find TensorRT\n",
      "[nltk_data] Downloading package stopwords to /home/stefan/nltk_data...\n",
      "[nltk_data]   Package stopwords is already up-to-date!\n"
     ]
    }
   ],
   "source": [
    "sys.path.append(\"../\")\n",
    "from src.tokenize_data import create_tokenizer, tokenize_text, remove_stop_words"
   ]
  },
  {
   "cell_type": "code",
   "execution_count": 3,
   "metadata": {},
   "outputs": [],
   "source": [
    "DATA_FOLDER = \"../data/genius_lyrics\"\n",
    "ARTISTS = [\"Travis Scott\", \"Queen\", \"The Beatles\"]"
   ]
  },
  {
   "attachments": {},
   "cell_type": "markdown",
   "metadata": {},
   "source": [
    "**getting the data into pandas**"
   ]
  },
  {
   "cell_type": "code",
   "execution_count": 4,
   "metadata": {},
   "outputs": [
    {
     "data": {
      "text/html": [
       "<div>\n",
       "<style scoped>\n",
       "    .dataframe tbody tr th:only-of-type {\n",
       "        vertical-align: middle;\n",
       "    }\n",
       "\n",
       "    .dataframe tbody tr th {\n",
       "        vertical-align: top;\n",
       "    }\n",
       "\n",
       "    .dataframe thead th {\n",
       "        text-align: right;\n",
       "    }\n",
       "</style>\n",
       "<table border=\"1\" class=\"dataframe\">\n",
       "  <thead>\n",
       "    <tr style=\"text-align: right;\">\n",
       "      <th></th>\n",
       "      <th>artist</th>\n",
       "      <th>title</th>\n",
       "      <th>lyrics</th>\n",
       "    </tr>\n",
       "  </thead>\n",
       "  <tbody>\n",
       "    <tr>\n",
       "      <th>0</th>\n",
       "      <td>Travis Scott</td>\n",
       "      <td>SICKO MODE</td>\n",
       "      <td>SICKO MODE Lyrics[Part I]\\n\\n[Intro: Drake]\\nA...</td>\n",
       "    </tr>\n",
       "    <tr>\n",
       "      <th>1</th>\n",
       "      <td>Travis Scott</td>\n",
       "      <td>​goosebumps</td>\n",
       "      <td>​goosebumps Lyrics[Intro: Travis Scott]\\nYeah\\...</td>\n",
       "    </tr>\n",
       "    <tr>\n",
       "      <th>2</th>\n",
       "      <td>Travis Scott</td>\n",
       "      <td>BUTTERFLY EFFECT</td>\n",
       "      <td>BUTTERFLY EFFECT Lyrics[Intro]\\nAll the commas...</td>\n",
       "    </tr>\n",
       "    <tr>\n",
       "      <th>3</th>\n",
       "      <td>Travis Scott</td>\n",
       "      <td>HIGHEST IN THE ROOM</td>\n",
       "      <td>HIGHEST IN THE ROOM Lyrics[Chorus]\\nI got room...</td>\n",
       "    </tr>\n",
       "    <tr>\n",
       "      <th>4</th>\n",
       "      <td>Travis Scott</td>\n",
       "      <td>Antidote</td>\n",
       "      <td>Antidote Lyrics[Chorus]\\nDon't you open up tha...</td>\n",
       "    </tr>\n",
       "  </tbody>\n",
       "</table>\n",
       "</div>"
      ],
      "text/plain": [
       "         artist                title   \n",
       "0  Travis Scott           SICKO MODE  \\\n",
       "1  Travis Scott          ​goosebumps   \n",
       "2  Travis Scott     BUTTERFLY EFFECT   \n",
       "3  Travis Scott  HIGHEST IN THE ROOM   \n",
       "4  Travis Scott             Antidote   \n",
       "\n",
       "                                              lyrics  \n",
       "0  SICKO MODE Lyrics[Part I]\\n\\n[Intro: Drake]\\nA...  \n",
       "1  ​goosebumps Lyrics[Intro: Travis Scott]\\nYeah\\...  \n",
       "2  BUTTERFLY EFFECT Lyrics[Intro]\\nAll the commas...  \n",
       "3  HIGHEST IN THE ROOM Lyrics[Chorus]\\nI got room...  \n",
       "4  Antidote Lyrics[Chorus]\\nDon't you open up tha...  "
      ]
     },
     "execution_count": 4,
     "metadata": {},
     "output_type": "execute_result"
    }
   ],
   "source": [
    "df = pd.DataFrame()\n",
    "for filename in os.listdir(DATA_FOLDER):\n",
    "    artist_name = filename.split('.')[0]\n",
    "    if artist_name in ARTISTS:\n",
    "        temp_df = pd.read_csv(os.path.join(DATA_FOLDER, filename),\n",
    "                usecols=['artist', 'title', 'lyrics'])\n",
    "        df = pd.concat([df, temp_df])\n",
    "\n",
    "df.head()"
   ]
  },
  {
   "cell_type": "code",
   "execution_count": 5,
   "metadata": {},
   "outputs": [
    {
     "data": {
      "text/plain": [
       "artist\n",
       "Travis Scott    100\n",
       "The Beatles     100\n",
       "Queen           100\n",
       "Name: count, dtype: int64"
      ]
     },
     "execution_count": 5,
     "metadata": {},
     "output_type": "execute_result"
    }
   ],
   "source": [
    "df.artist.value_counts()"
   ]
  },
  {
   "cell_type": "code",
   "execution_count": 6,
   "metadata": {},
   "outputs": [
    {
     "data": {
      "text/plain": [
       "'Mercy Lyrics\\nWell, it is'"
      ]
     },
     "execution_count": 6,
     "metadata": {},
     "output_type": "execute_result"
    }
   ],
   "source": [
    "sentence = \"Mercy Lyrics[Intro: Fuzzy Jones]\\nWell, it is\"\n",
    "sentence = re.sub(\"\\[.*\\]\", \"\", sentence)  \n",
    "sentence"
   ]
  },
  {
   "cell_type": "code",
   "execution_count": 7,
   "metadata": {},
   "outputs": [],
   "source": [
    "def clean_up_text(sentence):\n",
    "    sentence = str(sentence).lower()\n",
    "    sentence = re.sub(\"\\[.*\\]\", \"\", sentence)  # remove sections markings in brakets\n",
    "    sentence = re.sub(r'[^\\w]', ' ', sentence)  # romove punctuation\n",
    "    sentence = re.sub(r'[0-9]', '', sentence)  # remove numbers\n",
    "    sentence = re.sub(r'\\s[a-z]\\s', ' ', sentence)  # remove single characters\n",
    "    sentence = re.sub(r'^[a-z]\\s', '', sentence)  # remove single characters from the start\n",
    "    sentence = re.sub(r'\\s+', ' ', sentence).strip()  # remove extra spaces\n",
    "\n",
    "    sentence =  re.sub(r'.* lyrics', '', sentence)\n",
    "    \n",
    "\n",
    "    return sentence\n",
    "\n",
    "df.lyrics = df.lyrics.apply(clean_up_text)\n",
    "df.lyrics = df.lyrics.apply(remove_stop_words)"
   ]
  },
  {
   "cell_type": "code",
   "execution_count": 8,
   "metadata": {},
   "outputs": [
    {
     "data": {
      "text/html": [
       "<div>\n",
       "<style scoped>\n",
       "    .dataframe tbody tr th:only-of-type {\n",
       "        vertical-align: middle;\n",
       "    }\n",
       "\n",
       "    .dataframe tbody tr th {\n",
       "        vertical-align: top;\n",
       "    }\n",
       "\n",
       "    .dataframe thead th {\n",
       "        text-align: right;\n",
       "    }\n",
       "</style>\n",
       "<table border=\"1\" class=\"dataframe\">\n",
       "  <thead>\n",
       "    <tr style=\"text-align: right;\">\n",
       "      <th></th>\n",
       "      <th>artist</th>\n",
       "      <th>title</th>\n",
       "      <th>lyrics</th>\n",
       "    </tr>\n",
       "  </thead>\n",
       "  <tbody>\n",
       "    <tr>\n",
       "      <th>0</th>\n",
       "      <td>Travis Scott</td>\n",
       "      <td>16 Chapels</td>\n",
       "      <td>know feel like floating night slow move groove...</td>\n",
       "    </tr>\n",
       "    <tr>\n",
       "      <th>1</th>\n",
       "      <td>Travis Scott</td>\n",
       "      <td>3500</td>\n",
       "      <td>lyrics bandana wrapped wrapped round head band...</td>\n",
       "    </tr>\n",
       "    <tr>\n",
       "      <th>2</th>\n",
       "      <td>Travis Scott</td>\n",
       "      <td>5% TINT</td>\n",
       "      <td>creeping window fore come outside got took end...</td>\n",
       "    </tr>\n",
       "    <tr>\n",
       "      <th>3</th>\n",
       "      <td>Travis Scott</td>\n",
       "      <td>90210</td>\n",
       "      <td>lyrics dean poppin yo travis mhm ooh ooh ooh o...</td>\n",
       "    </tr>\n",
       "    <tr>\n",
       "      <th>4</th>\n",
       "      <td>The Beatles</td>\n",
       "      <td>A Day in the Life</td>\n",
       "      <td>read news today oh boy lucky man made grade th...</td>\n",
       "    </tr>\n",
       "  </tbody>\n",
       "</table>\n",
       "</div>"
      ],
      "text/plain": [
       "         artist              title   \n",
       "0  Travis Scott         16 Chapels  \\\n",
       "1  Travis Scott               3500   \n",
       "2  Travis Scott            5% TINT   \n",
       "3  Travis Scott              90210   \n",
       "4   The Beatles  A Day in the Life   \n",
       "\n",
       "                                              lyrics  \n",
       "0  know feel like floating night slow move groove...  \n",
       "1  lyrics bandana wrapped wrapped round head band...  \n",
       "2  creeping window fore come outside got took end...  \n",
       "3  lyrics dean poppin yo travis mhm ooh ooh ooh o...  \n",
       "4  read news today oh boy lucky man made grade th...  "
      ]
     },
     "execution_count": 8,
     "metadata": {},
     "output_type": "execute_result"
    }
   ],
   "source": [
    "df = df.sort_values(by='title')\n",
    "df = df.reset_index(drop=True)\n",
    "df.head()"
   ]
  },
  {
   "attachments": {},
   "cell_type": "markdown",
   "metadata": {},
   "source": [
    "**lets get those embeddings**"
   ]
  },
  {
   "cell_type": "code",
   "execution_count": 9,
   "metadata": {},
   "outputs": [
    {
     "name": "stderr",
     "output_type": "stream",
     "text": [
      "Some weights of the model checkpoint at roberta-base were not used when initializing RobertaModel: ['lm_head.layer_norm.bias', 'lm_head.layer_norm.weight', 'lm_head.dense.bias', 'lm_head.dense.weight', 'lm_head.bias', 'lm_head.decoder.weight']\n",
      "- This IS expected if you are initializing RobertaModel from the checkpoint of a model trained on another task or with another architecture (e.g. initializing a BertForSequenceClassification model from a BertForPreTraining model).\n",
      "- This IS NOT expected if you are initializing RobertaModel from the checkpoint of a model that you expect to be exactly identical (initializing a BertForSequenceClassification model from a BertForSequenceClassification model).\n"
     ]
    },
    {
     "data": {
      "text/html": [
       "<div>\n",
       "<style scoped>\n",
       "    .dataframe tbody tr th:only-of-type {\n",
       "        vertical-align: middle;\n",
       "    }\n",
       "\n",
       "    .dataframe tbody tr th {\n",
       "        vertical-align: top;\n",
       "    }\n",
       "\n",
       "    .dataframe thead th {\n",
       "        text-align: right;\n",
       "    }\n",
       "</style>\n",
       "<table border=\"1\" class=\"dataframe\">\n",
       "  <thead>\n",
       "    <tr style=\"text-align: right;\">\n",
       "      <th></th>\n",
       "      <th>vectors</th>\n",
       "    </tr>\n",
       "  </thead>\n",
       "  <tbody>\n",
       "    <tr>\n",
       "      <th>0</th>\n",
       "      <td>[tensor(0.0428), tensor(-0.0517), tensor(0.122...</td>\n",
       "    </tr>\n",
       "    <tr>\n",
       "      <th>1</th>\n",
       "      <td>[tensor(-0.0514), tensor(-0.0310), tensor(0.10...</td>\n",
       "    </tr>\n",
       "    <tr>\n",
       "      <th>2</th>\n",
       "      <td>[tensor(-0.0152), tensor(-0.0518), tensor(0.13...</td>\n",
       "    </tr>\n",
       "    <tr>\n",
       "      <th>3</th>\n",
       "      <td>[tensor(0.0536), tensor(-0.0091), tensor(0.084...</td>\n",
       "    </tr>\n",
       "    <tr>\n",
       "      <th>4</th>\n",
       "      <td>[tensor(0.0712), tensor(-0.1449), tensor(0.043...</td>\n",
       "    </tr>\n",
       "  </tbody>\n",
       "</table>\n",
       "</div>"
      ],
      "text/plain": [
       "                                             vectors\n",
       "0  [tensor(0.0428), tensor(-0.0517), tensor(0.122...\n",
       "1  [tensor(-0.0514), tensor(-0.0310), tensor(0.10...\n",
       "2  [tensor(-0.0152), tensor(-0.0518), tensor(0.13...\n",
       "3  [tensor(0.0536), tensor(-0.0091), tensor(0.084...\n",
       "4  [tensor(0.0712), tensor(-0.1449), tensor(0.043..."
      ]
     },
     "execution_count": 9,
     "metadata": {},
     "output_type": "execute_result"
    }
   ],
   "source": [
    "import torch\n",
    "from transformers import RobertaTokenizer, RobertaModel\n",
    "\n",
    "tokenizer = RobertaTokenizer.from_pretrained('roberta-base')\n",
    "embedding_model = RobertaModel.from_pretrained('roberta-base')\n",
    "\n",
    "\n",
    "def embed(sentence):\n",
    "    tokens = tokenizer.encode_plus(sentence, add_special_tokens=True, max_length=512, return_token_type_ids=True, padding=\"max_length\", truncation=True)\n",
    "    input_ids = torch.tensor(tokens['input_ids']).unsqueeze(0)\n",
    "    attention_mask = torch.tensor(tokens['attention_mask']).unsqueeze(0)\n",
    "    with torch.no_grad():\n",
    "        outputs = embedding_model(input_ids, attention_mask=attention_mask)\n",
    "    sentence_embedding = torch.mean(outputs[0], dim=1).squeeze()\n",
    "    return sentence_embedding\n",
    "\n",
    "\n",
    "df_dataset = pd.DataFrame()\n",
    "df_dataset['vectors'] = df['lyrics'].apply(embed)\n",
    "df_dataset.head()"
   ]
  },
  {
   "cell_type": "code",
   "execution_count": 10,
   "metadata": {},
   "outputs": [
    {
     "data": {
      "text/plain": [
       "array(['Travis Scott', 'The Beatles', 'Queen'], dtype=object)"
      ]
     },
     "execution_count": 10,
     "metadata": {},
     "output_type": "execute_result"
    }
   ],
   "source": [
    "df.artist.unique()"
   ]
  },
  {
   "cell_type": "code",
   "execution_count": 88,
   "metadata": {},
   "outputs": [
    {
     "data": {
      "text/plain": [
       "tensor([0, 0, 1])"
      ]
     },
     "execution_count": 88,
     "metadata": {},
     "output_type": "execute_result"
    }
   ],
   "source": [
    "stt = {\n",
    "    'Travis Scott': torch.tensor([1, 0, 0]),\n",
    "    'The Beatles': torch.tensor([0, 1, 0]),\n",
    "    'Queen': torch.tensor([0, 0, 1])\n",
    "}\n",
    "\n",
    "tts = {\n",
    "    str(torch.tensor([1, 0, 0])): 'Travis Scott',\n",
    "    str(torch.tensor([0, 1, 0])): 'The Beatles',\n",
    "    str(torch.tensor([0, 0, 1])): 'Queen'\n",
    "}\n",
    "\n",
    "def encode_label(label: str):\n",
    "    return stt[label]\n",
    "\n",
    "def decode_label(label: torch.tensor) -> str:\n",
    "    return tts[str(label)]\n",
    "\n",
    "encode_label(\"Queen\")"
   ]
  },
  {
   "cell_type": "code",
   "execution_count": 12,
   "metadata": {},
   "outputs": [
    {
     "data": {
      "text/html": [
       "<div>\n",
       "<style scoped>\n",
       "    .dataframe tbody tr th:only-of-type {\n",
       "        vertical-align: middle;\n",
       "    }\n",
       "\n",
       "    .dataframe tbody tr th {\n",
       "        vertical-align: top;\n",
       "    }\n",
       "\n",
       "    .dataframe thead th {\n",
       "        text-align: right;\n",
       "    }\n",
       "</style>\n",
       "<table border=\"1\" class=\"dataframe\">\n",
       "  <thead>\n",
       "    <tr style=\"text-align: right;\">\n",
       "      <th></th>\n",
       "      <th>vectors</th>\n",
       "      <th>artist</th>\n",
       "    </tr>\n",
       "  </thead>\n",
       "  <tbody>\n",
       "    <tr>\n",
       "      <th>0</th>\n",
       "      <td>[tensor(0.0428), tensor(-0.0517), tensor(0.122...</td>\n",
       "      <td>[tensor(1), tensor(0), tensor(0)]</td>\n",
       "    </tr>\n",
       "    <tr>\n",
       "      <th>1</th>\n",
       "      <td>[tensor(-0.0514), tensor(-0.0310), tensor(0.10...</td>\n",
       "      <td>[tensor(1), tensor(0), tensor(0)]</td>\n",
       "    </tr>\n",
       "    <tr>\n",
       "      <th>2</th>\n",
       "      <td>[tensor(-0.0152), tensor(-0.0518), tensor(0.13...</td>\n",
       "      <td>[tensor(1), tensor(0), tensor(0)]</td>\n",
       "    </tr>\n",
       "    <tr>\n",
       "      <th>3</th>\n",
       "      <td>[tensor(0.0536), tensor(-0.0091), tensor(0.084...</td>\n",
       "      <td>[tensor(1), tensor(0), tensor(0)]</td>\n",
       "    </tr>\n",
       "    <tr>\n",
       "      <th>4</th>\n",
       "      <td>[tensor(0.0712), tensor(-0.1449), tensor(0.043...</td>\n",
       "      <td>[tensor(0), tensor(1), tensor(0)]</td>\n",
       "    </tr>\n",
       "  </tbody>\n",
       "</table>\n",
       "</div>"
      ],
      "text/plain": [
       "                                             vectors   \n",
       "0  [tensor(0.0428), tensor(-0.0517), tensor(0.122...  \\\n",
       "1  [tensor(-0.0514), tensor(-0.0310), tensor(0.10...   \n",
       "2  [tensor(-0.0152), tensor(-0.0518), tensor(0.13...   \n",
       "3  [tensor(0.0536), tensor(-0.0091), tensor(0.084...   \n",
       "4  [tensor(0.0712), tensor(-0.1449), tensor(0.043...   \n",
       "\n",
       "                              artist  \n",
       "0  [tensor(1), tensor(0), tensor(0)]  \n",
       "1  [tensor(1), tensor(0), tensor(0)]  \n",
       "2  [tensor(1), tensor(0), tensor(0)]  \n",
       "3  [tensor(1), tensor(0), tensor(0)]  \n",
       "4  [tensor(0), tensor(1), tensor(0)]  "
      ]
     },
     "execution_count": 12,
     "metadata": {},
     "output_type": "execute_result"
    }
   ],
   "source": [
    "df_dataset['artist'] = df['artist'].apply(encode_label)\n",
    "df_dataset.head()"
   ]
  },
  {
   "attachments": {},
   "cell_type": "markdown",
   "metadata": {},
   "source": [
    "**model??**\n",
    "\n",
    "let's see if you really trap"
   ]
  },
  {
   "cell_type": "code",
   "execution_count": 26,
   "metadata": {},
   "outputs": [],
   "source": [
    "import torch\n",
    "import torch.nn as nn\n",
    "import torch.nn.functional as F\n",
    "from torch.utils.data import Dataset, DataLoader"
   ]
  },
  {
   "cell_type": "code",
   "execution_count": 27,
   "metadata": {},
   "outputs": [],
   "source": [
    "device = torch.device(\"cuda\" if torch.cuda.is_available() else \"cpu\")"
   ]
  },
  {
   "cell_type": "code",
   "execution_count": 52,
   "metadata": {},
   "outputs": [],
   "source": [
    "class Net(nn.Module):\n",
    "\n",
    "    def __init__(self, input_units, output_units):\n",
    "        super().__init__()\n",
    "        self.fc1 = nn.Linear(input_units, 1024)\n",
    "        self.fc2 = nn.Linear(1024, 2048)\n",
    "        self.fc3 = nn.Linear(2048, 4096)\n",
    "        self.fc4 = nn.Linear(4096, 2048)\n",
    "        self.fc5 = nn.Linear(2048, 2048)\n",
    "        self.fc6 = nn.Linear(2048, 84)\n",
    "        self.fc7 = nn.Linear(84, output_units)\n",
    "\n",
    "    def forward(self, x):\n",
    "        x = F.relu(self.fc1(x))\n",
    "        x = F.relu(self.fc2(x))\n",
    "        x = F.relu(self.fc3(x))\n",
    "        x = F.relu(self.fc4(x))\n",
    "        x = F.relu(self.fc5(x))\n",
    "        x = F.relu(self.fc6(x))\n",
    "        x = F.softmax(self.fc7(x), dim=1)\n",
    "        return x"
   ]
  },
  {
   "attachments": {},
   "cell_type": "markdown",
   "metadata": {},
   "source": [
    "**turn of the autotune(copilot)\\\n",
    "lets see if you really rap**"
   ]
  },
  {
   "cell_type": "code",
   "execution_count": 62,
   "metadata": {},
   "outputs": [],
   "source": [
    "# initialize model\n",
    "net = Net(768, 3).to(device)\n",
    "epoch_count = 0"
   ]
  },
  {
   "cell_type": "code",
   "execution_count": 63,
   "metadata": {},
   "outputs": [],
   "source": [
    "# CONSTANTS\n",
    "torch.manual_seed(42)\n",
    "train_size = 0.8\n",
    "learning_rate = 0.00001\n",
    "num_epochs = 60"
   ]
  },
  {
   "cell_type": "code",
   "execution_count": 64,
   "metadata": {},
   "outputs": [],
   "source": [
    "class MyDataset(Dataset):\n",
    "    def __init__(self, dataframe):\n",
    "        self.data = dataframe.values\n",
    "\n",
    "    def __len__(self):\n",
    "        return len(self.data)\n",
    "\n",
    "    def __getitem__(self, idx):\n",
    "        return torch.stack(list(self.data[idx, 0])), torch.stack(list(self.data[idx, -1]))\n",
    "    \n",
    "split = int(train_size * len(df_dataset))\n",
    "train_dataset = MyDataset(df_dataset[:split])\n",
    "test_dataset = MyDataset(df_dataset[split:])\n",
    "\n",
    "criterion = nn.CrossEntropyLoss()\n",
    "optimizer = torch.optim.Adam(net.parameters(), lr=learning_rate)"
   ]
  },
  {
   "cell_type": "code",
   "execution_count": 65,
   "metadata": {},
   "outputs": [],
   "source": [
    "train_dataloader = DataLoader(train_dataset, batch_size=32, shuffle=True)\n",
    "test_dataloader = DataLoader(test_dataset, batch_size=32, shuffle=True)"
   ]
  },
  {
   "attachments": {},
   "cell_type": "markdown",
   "metadata": {},
   "source": [
    "**training**"
   ]
  },
  {
   "cell_type": "code",
   "execution_count": 66,
   "metadata": {},
   "outputs": [],
   "source": [
    "def multi_class_accuracy(preds: torch.Tensor, target: torch.Tensor) -> float:\n",
    "    return ((torch.argmax(preds, dim=1) == torch.argmax(target, dim=1)) * 1).sum()\\\n",
    "        / target.shape[0]"
   ]
  },
  {
   "cell_type": "code",
   "execution_count": 67,
   "metadata": {},
   "outputs": [
    {
     "name": "stdout",
     "output_type": "stream",
     "text": [
      "torch.Size([32, 768])\n",
      "torch.Size([32, 3])\n"
     ]
    }
   ],
   "source": [
    "for x, y in train_dataloader:\n",
    "    print(x.shape)\n",
    "    print(y.shape)\n",
    "    break"
   ]
  },
  {
   "cell_type": "code",
   "execution_count": 68,
   "metadata": {},
   "outputs": [],
   "source": [
    "def train_pass(\n",
    "    model: torch.nn.Module,\n",
    "    dataset: list,\n",
    "    loss_function: torch.nn.Module,\n",
    "    optimizer: torch.optim.Optimizer,\n",
    "    accuracy_function,\n",
    "    device: torch.device=device,\n",
    "    display: bool=False) -> dict:\n",
    "    \n",
    "    model.train()\n",
    "    train_acc, train_loss = 0, 0\n",
    "    N = len(dataset)\n",
    "\n",
    "    for X, y in dataset:\n",
    "        X, y = X.to(device).float(), y.to(device).float()\n",
    "        # forward pass\n",
    "        y_pred = model(X)\n",
    "        loss = loss_function(input=y_pred, target=y)\n",
    "\n",
    "        train_acc += accuracy_function(preds=y_pred, target=y)\n",
    "        train_loss += loss\n",
    "\n",
    "        # backward pass\n",
    "        optimizer.zero_grad()\n",
    "        loss.backward()\n",
    "        optimizer.step()\n",
    "\n",
    "    train_loss /= N\n",
    "    train_acc /= N\n",
    "\n",
    "    if display:\n",
    "        print(f'🔨Train loss: {train_loss:.4f} || Train acc: {train_acc:.4f}')\n",
    "\n",
    "    results = {\n",
    "        'train_loss': train_loss,\n",
    "        'train_accuracy': train_acc\n",
    "    }\n",
    "\n",
    "    return results\n",
    "\n",
    "\n",
    "def test_pass(\n",
    "    dataset,\n",
    "    model: torch.nn.Module,\n",
    "    loss_function: torch.nn.Module,\n",
    "    accuracy_function,\n",
    "    device: torch.device=device,\n",
    "    display: bool=False) -> dict:\n",
    "\n",
    "    test_loss, test_acc = 0, 0\n",
    "    N = len(dataset)\n",
    "\n",
    "    for batch, (X, y) in enumerate(dataset):\n",
    "        \n",
    "        X, y = X.to(device).float(), y.to(device).float()\n",
    "\n",
    "        test_pred = model(X)\n",
    "        test_loss += loss_function(input=test_pred, target=y)\n",
    "\n",
    "        test_acc += accuracy_function(preds=test_pred, target=y)\n",
    "\n",
    "    test_loss /= N\n",
    "    test_acc /= N\n",
    "    if display:\n",
    "        print(f'🧐Test loss: {test_loss:.4f} || Test acc: {test_acc:.4f}')\n",
    "\n",
    "    results = {\n",
    "        'test_loss': test_loss.cpu().detach().float(),\n",
    "        'test_accuracy': test_acc.cpu().detach().float()\n",
    "    }\n",
    "\n",
    "    return results"
   ]
  },
  {
   "cell_type": "code",
   "execution_count": 69,
   "metadata": {},
   "outputs": [
    {
     "name": "stdout",
     "output_type": "stream",
     "text": [
      "Epoch 1/60\n",
      "🔨Train loss: 1.0987 || Train acc: 0.3516\n",
      "🧐Test loss: 1.0985 || Test acc: 0.2790\n",
      "Epoch 2/60\n",
      "🔨Train loss: 1.0988 || Train acc: 0.3359\n",
      "🧐Test loss: 1.0974 || Test acc: 0.2902\n",
      "Epoch 3/60\n",
      "🔨Train loss: 1.0983 || Train acc: 0.3438\n",
      "🧐Test loss: 1.0971 || Test acc: 0.2835\n",
      "Epoch 4/60\n",
      "🔨Train loss: 1.0969 || Train acc: 0.3555\n",
      "🧐Test loss: 1.0962 || Test acc: 0.2768\n",
      "Epoch 5/60\n",
      "🔨Train loss: 1.0960 || Train acc: 0.3398\n",
      "🧐Test loss: 1.0945 || Test acc: 0.2857\n",
      "Epoch 6/60\n",
      "🔨Train loss: 1.0945 || Train acc: 0.3867\n",
      "🧐Test loss: 1.0926 || Test acc: 0.4263\n",
      "Epoch 7/60\n",
      "🔨Train loss: 1.0928 || Train acc: 0.5078\n",
      "🧐Test loss: 1.0898 || Test acc: 0.5781\n",
      "Epoch 8/60\n",
      "🔨Train loss: 1.0896 || Train acc: 0.5820\n",
      "🧐Test loss: 1.0850 || Test acc: 0.6652\n",
      "Epoch 9/60\n",
      "🔨Train loss: 1.0845 || Train acc: 0.6016\n",
      "🧐Test loss: 1.0776 || Test acc: 0.6674\n",
      "Epoch 10/60\n",
      "🔨Train loss: 1.0775 || Train acc: 0.6055\n",
      "🧐Test loss: 1.0662 || Test acc: 0.6786\n",
      "Epoch 11/60\n",
      "🔨Train loss: 1.0656 || Train acc: 0.6094\n",
      "🧐Test loss: 1.0491 || Test acc: 0.6830\n",
      "Epoch 12/60\n",
      "🔨Train loss: 1.0486 || Train acc: 0.6016\n",
      "🧐Test loss: 1.0218 || Test acc: 0.6920\n",
      "Epoch 13/60\n",
      "🔨Train loss: 1.0240 || Train acc: 0.6016\n",
      "🧐Test loss: 0.9850 || Test acc: 0.7143\n",
      "Epoch 14/60\n",
      "🔨Train loss: 0.9966 || Train acc: 0.6211\n",
      "🧐Test loss: 0.9449 || Test acc: 0.7188\n",
      "Epoch 15/60\n",
      "🔨Train loss: 0.9627 || Train acc: 0.6445\n",
      "🧐Test loss: 0.9064 || Test acc: 0.6830\n",
      "Epoch 16/60\n",
      "🔨Train loss: 0.9423 || Train acc: 0.6445\n",
      "🧐Test loss: 0.8720 || Test acc: 0.7210\n",
      "Epoch 17/60\n",
      "🔨Train loss: 0.9151 || Train acc: 0.6523\n",
      "🧐Test loss: 0.8577 || Test acc: 0.7299\n",
      "Epoch 18/60\n",
      "🔨Train loss: 0.8967 || Train acc: 0.6680\n",
      "🧐Test loss: 0.8414 || Test acc: 0.7165\n",
      "Epoch 19/60\n",
      "🔨Train loss: 0.8979 || Train acc: 0.6406\n",
      "🧐Test loss: 0.8328 || Test acc: 0.7143\n",
      "Epoch 20/60\n",
      "🔨Train loss: 0.8908 || Train acc: 0.6289\n",
      "🧐Test loss: 0.8340 || Test acc: 0.7344\n",
      "Epoch 21/60\n",
      "🔨Train loss: 0.8857 || Train acc: 0.6562\n",
      "🧐Test loss: 0.8295 || Test acc: 0.6808\n",
      "Epoch 22/60\n",
      "🔨Train loss: 0.8752 || Train acc: 0.6875\n",
      "🧐Test loss: 0.8210 || Test acc: 0.7277\n",
      "Epoch 23/60\n",
      "🔨Train loss: 0.8630 || Train acc: 0.6836\n",
      "🧐Test loss: 0.8193 || Test acc: 0.7478\n",
      "Epoch 24/60\n",
      "🔨Train loss: 0.8643 || Train acc: 0.6914\n",
      "🧐Test loss: 0.8111 || Test acc: 0.7210\n",
      "Epoch 25/60\n",
      "🔨Train loss: 0.8590 || Train acc: 0.6914\n",
      "🧐Test loss: 0.8109 || Test acc: 0.7679\n",
      "Epoch 26/60\n",
      "🔨Train loss: 0.8532 || Train acc: 0.6914\n",
      "🧐Test loss: 0.8083 || Test acc: 0.7723\n",
      "Epoch 27/60\n",
      "🔨Train loss: 0.8586 || Train acc: 0.6914\n",
      "🧐Test loss: 0.8088 || Test acc: 0.7321\n",
      "Epoch 28/60\n",
      "🔨Train loss: 0.8478 || Train acc: 0.7070\n",
      "🧐Test loss: 0.8070 || Test acc: 0.7478\n",
      "Epoch 29/60\n",
      "🔨Train loss: 0.8354 || Train acc: 0.7422\n",
      "🧐Test loss: 0.8031 || Test acc: 0.7500\n",
      "Epoch 30/60\n",
      "🔨Train loss: 0.8345 || Train acc: 0.7383\n",
      "🧐Test loss: 0.8001 || Test acc: 0.7500\n",
      "Epoch 31/60\n",
      "🔨Train loss: 0.8281 || Train acc: 0.7266\n",
      "🧐Test loss: 0.7981 || Test acc: 0.7478\n",
      "Epoch 32/60\n",
      "🔨Train loss: 0.8174 || Train acc: 0.7500\n",
      "🧐Test loss: 0.7924 || Test acc: 0.7366\n",
      "Epoch 33/60\n",
      "🔨Train loss: 0.8220 || Train acc: 0.7500\n",
      "🧐Test loss: 0.7848 || Test acc: 0.7589\n",
      "Epoch 34/60\n",
      "🔨Train loss: 0.8201 || Train acc: 0.7266\n",
      "🧐Test loss: 0.7917 || Test acc: 0.7455\n",
      "Epoch 35/60\n",
      "🔨Train loss: 0.8116 || Train acc: 0.7656\n",
      "🧐Test loss: 0.7880 || Test acc: 0.7634\n",
      "Epoch 36/60\n",
      "🔨Train loss: 0.8064 || Train acc: 0.7656\n",
      "🧐Test loss: 0.7833 || Test acc: 0.7366\n",
      "Epoch 37/60\n",
      "🔨Train loss: 0.7933 || Train acc: 0.7695\n",
      "🧐Test loss: 0.7822 || Test acc: 0.7277\n",
      "Epoch 38/60\n",
      "🔨Train loss: 0.7859 || Train acc: 0.7930\n",
      "🧐Test loss: 0.7766 || Test acc: 0.7522\n",
      "Epoch 39/60\n",
      "🔨Train loss: 0.7790 || Train acc: 0.7969\n",
      "🧐Test loss: 0.7724 || Test acc: 0.7366\n",
      "Epoch 40/60\n",
      "🔨Train loss: 0.7846 || Train acc: 0.7656\n",
      "🧐Test loss: 0.7703 || Test acc: 0.7522\n",
      "Epoch 41/60\n",
      "🔨Train loss: 0.7812 || Train acc: 0.7812\n",
      "🧐Test loss: 0.7703 || Test acc: 0.7143\n",
      "Epoch 42/60\n",
      "🔨Train loss: 0.7735 || Train acc: 0.7891\n",
      "🧐Test loss: 0.7635 || Test acc: 0.7210\n",
      "Epoch 43/60\n",
      "🔨Train loss: 0.7650 || Train acc: 0.7969\n",
      "🧐Test loss: 0.7645 || Test acc: 0.7656\n",
      "Epoch 44/60\n",
      "🔨Train loss: 0.7658 || Train acc: 0.8047\n",
      "🧐Test loss: 0.7588 || Test acc: 0.7857\n",
      "Epoch 45/60\n",
      "🔨Train loss: 0.7516 || Train acc: 0.8164\n",
      "🧐Test loss: 0.7578 || Test acc: 0.7478\n",
      "Epoch 46/60\n",
      "🔨Train loss: 0.7404 || Train acc: 0.8320\n",
      "🧐Test loss: 0.7599 || Test acc: 0.7433\n",
      "Epoch 47/60\n",
      "🔨Train loss: 0.7363 || Train acc: 0.8359\n",
      "🧐Test loss: 0.7552 || Test acc: 0.7790\n",
      "Epoch 48/60\n",
      "🔨Train loss: 0.7308 || Train acc: 0.8438\n",
      "🧐Test loss: 0.7511 || Test acc: 0.7991\n",
      "Epoch 49/60\n",
      "🔨Train loss: 0.7345 || Train acc: 0.8320\n",
      "🧐Test loss: 0.7512 || Test acc: 0.7857\n",
      "Epoch 50/60\n",
      "🔨Train loss: 0.7209 || Train acc: 0.8398\n",
      "🧐Test loss: 0.7546 || Test acc: 0.7768\n",
      "Epoch 51/60\n",
      "🔨Train loss: 0.7219 || Train acc: 0.8438\n",
      "🧐Test loss: 0.7463 || Test acc: 0.7701\n",
      "Epoch 52/60\n",
      "🔨Train loss: 0.7186 || Train acc: 0.8633\n",
      "🧐Test loss: 0.7512 || Test acc: 0.8147\n",
      "Epoch 53/60\n",
      "🔨Train loss: 0.7075 || Train acc: 0.8633\n",
      "🧐Test loss: 0.7438 || Test acc: 0.8036\n",
      "Epoch 54/60\n",
      "🔨Train loss: 0.7040 || Train acc: 0.8789\n",
      "🧐Test loss: 0.7401 || Test acc: 0.8036\n",
      "Epoch 55/60\n",
      "🔨Train loss: 0.7028 || Train acc: 0.8750\n",
      "🧐Test loss: 0.7456 || Test acc: 0.8147\n",
      "Epoch 56/60\n",
      "🔨Train loss: 0.7014 || Train acc: 0.8789\n",
      "🧐Test loss: 0.7372 || Test acc: 0.8058\n",
      "Epoch 57/60\n",
      "🔨Train loss: 0.6941 || Train acc: 0.8906\n",
      "🧐Test loss: 0.7393 || Test acc: 0.8326\n",
      "Epoch 58/60\n",
      "🔨Train loss: 0.6907 || Train acc: 0.8867\n",
      "🧐Test loss: 0.7408 || Test acc: 0.8125\n",
      "Epoch 59/60\n",
      "🔨Train loss: 0.6845 || Train acc: 0.8867\n",
      "🧐Test loss: 0.7368 || Test acc: 0.8170\n",
      "Epoch 60/60\n",
      "🔨Train loss: 0.6857 || Train acc: 0.8906\n",
      "🧐Test loss: 0.7419 || Test acc: 0.8013\n"
     ]
    }
   ],
   "source": [
    "for n, epoch in enumerate(range(num_epochs)):\n",
    "    print(f'Epoch {epoch_count + n+1}/{epoch_count + num_epochs}')\n",
    "    train_results = train_pass(\n",
    "        model=net,\n",
    "        dataset=train_dataloader,\n",
    "        loss_function=criterion,\n",
    "        optimizer=optimizer,\n",
    "        accuracy_function=multi_class_accuracy,\n",
    "        device=device,\n",
    "        display=True\n",
    "    )\n",
    "\n",
    "    test_results = test_pass(\n",
    "        dataset=test_dataloader,\n",
    "        model=net,\n",
    "        loss_function=criterion,\n",
    "        accuracy_function=multi_class_accuracy,\n",
    "        device=device,\n",
    "        display=True\n",
    "    )"
   ]
  },
  {
   "attachments": {},
   "cell_type": "markdown",
   "metadata": {},
   "source": [
    "**markus? which markus, our markus?**\n",
    "\n",
    "**lets decode**\n",
    "\n",
    "**lyrics -> embeddings -> model -> class(one hot) -> NL artist**"
   ]
  },
  {
   "cell_type": "code",
   "execution_count": 98,
   "metadata": {},
   "outputs": [],
   "source": [
    "mafia_path = \"../data/inference_data/MAFIA.txt\"\n",
    "all_my_love_path = \"../data/inference_data/all_my_loving.txt\"\n",
    "bohemian_path = \"../data/inference_data/in_39.txt\""
   ]
  },
  {
   "cell_type": "code",
   "execution_count": 97,
   "metadata": {},
   "outputs": [],
   "source": [
    "def predict(model, text, device=device):\n",
    "    X = embed(clean_up_text(text))\n",
    "    model.eval()\n",
    "    with torch.no_grad():\n",
    "        X = X.unsqueeze(dim=0).to(device).float()\n",
    "        y_pred = model(X)\n",
    "        y_pred = torch.zeros_like(y_pred).scatter_(\n",
    "            1, torch.argmax(y_pred, dim=1).unsqueeze(dim=1), 1)\n",
    "        return decode_label(y_pred.squeeze(dim=0).to(int))"
   ]
  },
  {
   "cell_type": "code",
   "execution_count": 101,
   "metadata": {},
   "outputs": [
    {
     "name": "stdout",
     "output_type": "stream",
     "text": [
      "Artist: Travis Scott, prediction: Travis Scott\n",
      "Artis: The Beatles, prediction: The Beatles\n",
      "Artist: Queen, prediction: Queen\n"
     ]
    }
   ],
   "source": [
    "travis_lyrics = open(mafia_path, 'r').read()\n",
    "beatles_lyrics = open(all_my_love_path, 'r').read()\n",
    "queen_lyrics = open(bohemian_path, 'r').read()\n",
    "\n",
    "print('Artist: Travis Scott, prediction:', predict(net, travis_lyrics))\n",
    "print('Artis: The Beatles, prediction:', predict(net, beatles_lyrics))\n",
    "print('Artist: Queen, prediction:', predict(net, queen_lyrics))"
   ]
  },
  {
   "cell_type": "code",
   "execution_count": null,
   "metadata": {},
   "outputs": [],
   "source": []
  }
 ],
 "metadata": {
  "kernelspec": {
   "display_name": "samsung-venv",
   "language": "python",
   "name": "python3"
  },
  "language_info": {
   "codemirror_mode": {
    "name": "ipython",
    "version": 3
   },
   "file_extension": ".py",
   "mimetype": "text/x-python",
   "name": "python",
   "nbconvert_exporter": "python",
   "pygments_lexer": "ipython3",
   "version": "3.10.6"
  },
  "orig_nbformat": 4,
  "vscode": {
   "interpreter": {
    "hash": "e45c6efbcd79cd7473ed712f971cb7abd2c2692e182cafe90473b71e016b4287"
   }
  }
 },
 "nbformat": 4,
 "nbformat_minor": 2
}
