{
 "cells": [
  {
   "cell_type": "code",
   "execution_count": 33,
   "metadata": {},
   "outputs": [],
   "source": [
    "import sys\n",
    "import os\n",
    "import pandas as pd\n",
    "import re"
   ]
  },
  {
   "cell_type": "code",
   "execution_count": 34,
   "metadata": {},
   "outputs": [],
   "source": [
    "sys.path.append(\"../\")\n",
    "from src.embeddings import remove_stop_words"
   ]
  },
  {
   "cell_type": "code",
   "execution_count": 35,
   "metadata": {},
   "outputs": [],
   "source": [
    "DATA_FOLDER = \"../data/genius_lyrics\"\n",
    "ARTISTS = [\"Travis Scott\", \"Queen\", \"The Beatles\"]"
   ]
  },
  {
   "attachments": {},
   "cell_type": "markdown",
   "metadata": {},
   "source": [
    "**getting the data into pandas**"
   ]
  },
  {
   "cell_type": "code",
   "execution_count": 36,
   "metadata": {},
   "outputs": [
    {
     "data": {
      "text/html": [
       "<div>\n",
       "<style scoped>\n",
       "    .dataframe tbody tr th:only-of-type {\n",
       "        vertical-align: middle;\n",
       "    }\n",
       "\n",
       "    .dataframe tbody tr th {\n",
       "        vertical-align: top;\n",
       "    }\n",
       "\n",
       "    .dataframe thead th {\n",
       "        text-align: right;\n",
       "    }\n",
       "</style>\n",
       "<table border=\"1\" class=\"dataframe\">\n",
       "  <thead>\n",
       "    <tr style=\"text-align: right;\">\n",
       "      <th></th>\n",
       "      <th>artist</th>\n",
       "      <th>title</th>\n",
       "      <th>lyrics</th>\n",
       "    </tr>\n",
       "  </thead>\n",
       "  <tbody>\n",
       "    <tr>\n",
       "      <th>0</th>\n",
       "      <td>Travis Scott</td>\n",
       "      <td>SICKO MODE</td>\n",
       "      <td>SICKO MODE Lyrics[Part I]\\n\\n[Intro: Drake]\\nA...</td>\n",
       "    </tr>\n",
       "    <tr>\n",
       "      <th>1</th>\n",
       "      <td>Travis Scott</td>\n",
       "      <td>​goosebumps</td>\n",
       "      <td>​goosebumps Lyrics[Intro: Travis Scott]\\nYeah\\...</td>\n",
       "    </tr>\n",
       "    <tr>\n",
       "      <th>2</th>\n",
       "      <td>Travis Scott</td>\n",
       "      <td>BUTTERFLY EFFECT</td>\n",
       "      <td>BUTTERFLY EFFECT Lyrics[Intro]\\nAll the commas...</td>\n",
       "    </tr>\n",
       "    <tr>\n",
       "      <th>3</th>\n",
       "      <td>Travis Scott</td>\n",
       "      <td>HIGHEST IN THE ROOM</td>\n",
       "      <td>HIGHEST IN THE ROOM Lyrics[Chorus]\\nI got room...</td>\n",
       "    </tr>\n",
       "    <tr>\n",
       "      <th>4</th>\n",
       "      <td>Travis Scott</td>\n",
       "      <td>Antidote</td>\n",
       "      <td>Antidote Lyrics[Chorus]\\nDon't you open up tha...</td>\n",
       "    </tr>\n",
       "  </tbody>\n",
       "</table>\n",
       "</div>"
      ],
      "text/plain": [
       "         artist                title   \n",
       "0  Travis Scott           SICKO MODE  \\\n",
       "1  Travis Scott          ​goosebumps   \n",
       "2  Travis Scott     BUTTERFLY EFFECT   \n",
       "3  Travis Scott  HIGHEST IN THE ROOM   \n",
       "4  Travis Scott             Antidote   \n",
       "\n",
       "                                              lyrics  \n",
       "0  SICKO MODE Lyrics[Part I]\\n\\n[Intro: Drake]\\nA...  \n",
       "1  ​goosebumps Lyrics[Intro: Travis Scott]\\nYeah\\...  \n",
       "2  BUTTERFLY EFFECT Lyrics[Intro]\\nAll the commas...  \n",
       "3  HIGHEST IN THE ROOM Lyrics[Chorus]\\nI got room...  \n",
       "4  Antidote Lyrics[Chorus]\\nDon't you open up tha...  "
      ]
     },
     "execution_count": 36,
     "metadata": {},
     "output_type": "execute_result"
    }
   ],
   "source": [
    "df = pd.DataFrame()\n",
    "for filename in os.listdir(DATA_FOLDER):\n",
    "    artist_name = filename.split('.')[0]\n",
    "    if artist_name in ARTISTS:\n",
    "        temp_df = pd.read_csv(os.path.join(DATA_FOLDER, filename),\n",
    "                usecols=['artist', 'title', 'lyrics'])\n",
    "        df = pd.concat([df, temp_df])\n",
    "\n",
    "df.head()"
   ]
  },
  {
   "cell_type": "code",
   "execution_count": 37,
   "metadata": {},
   "outputs": [
    {
     "data": {
      "text/plain": [
       "artist\n",
       "Travis Scott    100\n",
       "The Beatles     100\n",
       "Queen           100\n",
       "Name: count, dtype: int64"
      ]
     },
     "execution_count": 37,
     "metadata": {},
     "output_type": "execute_result"
    }
   ],
   "source": [
    "df.artist.value_counts()"
   ]
  },
  {
   "cell_type": "code",
   "execution_count": 38,
   "metadata": {},
   "outputs": [],
   "source": [
    "def clean_up_text(sentence):\n",
    "    sentence = str(sentence).lower()\n",
    "    sentence = re.sub(\"\\[.*\\]\", \"\", sentence)  # remove sections markings in brakets\n",
    "    sentence = re.sub(r'[^\\w]', ' ', sentence)  # romove punctuation\n",
    "    sentence = re.sub(r'[0-9]', '', sentence)  # remove numbers\n",
    "    sentence = re.sub(r'\\s[a-z]\\s', ' ', sentence)  # remove single characters\n",
    "    sentence = re.sub(r'^[a-z]\\s', '', sentence)  # remove single characters from the start\n",
    "    sentence = re.sub(r'\\s+', ' ', sentence).strip()  # remove extra spaces\n",
    "\n",
    "    sentence =  re.sub(r'.* lyrics', '', sentence)\n",
    "    \n",
    "\n",
    "    return sentence\n",
    "\n",
    "df.lyrics = df.lyrics.apply(clean_up_text)\n",
    "df.lyrics = df.lyrics.apply(remove_stop_words)"
   ]
  },
  {
   "cell_type": "code",
   "execution_count": 39,
   "metadata": {},
   "outputs": [
    {
     "data": {
      "text/html": [
       "<div>\n",
       "<style scoped>\n",
       "    .dataframe tbody tr th:only-of-type {\n",
       "        vertical-align: middle;\n",
       "    }\n",
       "\n",
       "    .dataframe tbody tr th {\n",
       "        vertical-align: top;\n",
       "    }\n",
       "\n",
       "    .dataframe thead th {\n",
       "        text-align: right;\n",
       "    }\n",
       "</style>\n",
       "<table border=\"1\" class=\"dataframe\">\n",
       "  <thead>\n",
       "    <tr style=\"text-align: right;\">\n",
       "      <th></th>\n",
       "      <th>artist</th>\n",
       "      <th>title</th>\n",
       "      <th>lyrics</th>\n",
       "    </tr>\n",
       "  </thead>\n",
       "  <tbody>\n",
       "    <tr>\n",
       "      <th>0</th>\n",
       "      <td>Travis Scott</td>\n",
       "      <td>16 Chapels</td>\n",
       "      <td>know feel like floating night slow move groove...</td>\n",
       "    </tr>\n",
       "    <tr>\n",
       "      <th>1</th>\n",
       "      <td>Travis Scott</td>\n",
       "      <td>3500</td>\n",
       "      <td>lyrics bandana wrapped wrapped round head band...</td>\n",
       "    </tr>\n",
       "    <tr>\n",
       "      <th>2</th>\n",
       "      <td>Travis Scott</td>\n",
       "      <td>5% TINT</td>\n",
       "      <td>creeping window fore come outside got took end...</td>\n",
       "    </tr>\n",
       "    <tr>\n",
       "      <th>3</th>\n",
       "      <td>Travis Scott</td>\n",
       "      <td>90210</td>\n",
       "      <td>lyrics dean poppin yo travis mhm ooh ooh ooh o...</td>\n",
       "    </tr>\n",
       "    <tr>\n",
       "      <th>4</th>\n",
       "      <td>The Beatles</td>\n",
       "      <td>A Day in the Life</td>\n",
       "      <td>read news today oh boy lucky man made grade th...</td>\n",
       "    </tr>\n",
       "  </tbody>\n",
       "</table>\n",
       "</div>"
      ],
      "text/plain": [
       "         artist              title   \n",
       "0  Travis Scott         16 Chapels  \\\n",
       "1  Travis Scott               3500   \n",
       "2  Travis Scott            5% TINT   \n",
       "3  Travis Scott              90210   \n",
       "4   The Beatles  A Day in the Life   \n",
       "\n",
       "                                              lyrics  \n",
       "0  know feel like floating night slow move groove...  \n",
       "1  lyrics bandana wrapped wrapped round head band...  \n",
       "2  creeping window fore come outside got took end...  \n",
       "3  lyrics dean poppin yo travis mhm ooh ooh ooh o...  \n",
       "4  read news today oh boy lucky man made grade th...  "
      ]
     },
     "execution_count": 39,
     "metadata": {},
     "output_type": "execute_result"
    }
   ],
   "source": [
    "df = df.sort_values(by='title')\n",
    "df = df.reset_index(drop=True)\n",
    "df.head()"
   ]
  },
  {
   "attachments": {},
   "cell_type": "markdown",
   "metadata": {},
   "source": [
    "**lets get those embeddings**"
   ]
  },
  {
   "cell_type": "code",
   "execution_count": 40,
   "metadata": {},
   "outputs": [
    {
     "name": "stderr",
     "output_type": "stream",
     "text": [
      "Some weights of the model checkpoint at roberta-base were not used when initializing RobertaModel: ['lm_head.dense.weight', 'lm_head.bias', 'lm_head.layer_norm.bias', 'lm_head.dense.bias', 'lm_head.layer_norm.weight', 'lm_head.decoder.weight']\n",
      "- This IS expected if you are initializing RobertaModel from the checkpoint of a model trained on another task or with another architecture (e.g. initializing a BertForSequenceClassification model from a BertForPreTraining model).\n",
      "- This IS NOT expected if you are initializing RobertaModel from the checkpoint of a model that you expect to be exactly identical (initializing a BertForSequenceClassification model from a BertForSequenceClassification model).\n"
     ]
    },
    {
     "data": {
      "text/html": [
       "<div>\n",
       "<style scoped>\n",
       "    .dataframe tbody tr th:only-of-type {\n",
       "        vertical-align: middle;\n",
       "    }\n",
       "\n",
       "    .dataframe tbody tr th {\n",
       "        vertical-align: top;\n",
       "    }\n",
       "\n",
       "    .dataframe thead th {\n",
       "        text-align: right;\n",
       "    }\n",
       "</style>\n",
       "<table border=\"1\" class=\"dataframe\">\n",
       "  <thead>\n",
       "    <tr style=\"text-align: right;\">\n",
       "      <th></th>\n",
       "      <th>vectors</th>\n",
       "    </tr>\n",
       "  </thead>\n",
       "  <tbody>\n",
       "    <tr>\n",
       "      <th>0</th>\n",
       "      <td>[tensor(0.0428), tensor(-0.0517), tensor(0.122...</td>\n",
       "    </tr>\n",
       "    <tr>\n",
       "      <th>1</th>\n",
       "      <td>[tensor(-0.0514), tensor(-0.0310), tensor(0.10...</td>\n",
       "    </tr>\n",
       "    <tr>\n",
       "      <th>2</th>\n",
       "      <td>[tensor(-0.0152), tensor(-0.0518), tensor(0.13...</td>\n",
       "    </tr>\n",
       "    <tr>\n",
       "      <th>3</th>\n",
       "      <td>[tensor(0.0536), tensor(-0.0091), tensor(0.084...</td>\n",
       "    </tr>\n",
       "    <tr>\n",
       "      <th>4</th>\n",
       "      <td>[tensor(0.0712), tensor(-0.1449), tensor(0.043...</td>\n",
       "    </tr>\n",
       "  </tbody>\n",
       "</table>\n",
       "</div>"
      ],
      "text/plain": [
       "                                             vectors\n",
       "0  [tensor(0.0428), tensor(-0.0517), tensor(0.122...\n",
       "1  [tensor(-0.0514), tensor(-0.0310), tensor(0.10...\n",
       "2  [tensor(-0.0152), tensor(-0.0518), tensor(0.13...\n",
       "3  [tensor(0.0536), tensor(-0.0091), tensor(0.084...\n",
       "4  [tensor(0.0712), tensor(-0.1449), tensor(0.043..."
      ]
     },
     "execution_count": 40,
     "metadata": {},
     "output_type": "execute_result"
    }
   ],
   "source": [
    "import torch\n",
    "from transformers import RobertaTokenizer, RobertaModel\n",
    "\n",
    "tokenizer = RobertaTokenizer.from_pretrained('roberta-base')\n",
    "embedding_model = RobertaModel.from_pretrained('roberta-base')\n",
    "\n",
    "\n",
    "def embed(sentence):\n",
    "    tokens = tokenizer.encode_plus(sentence, add_special_tokens=True, max_length=512, return_token_type_ids=True, padding=\"max_length\", truncation=True)\n",
    "    input_ids = torch.tensor(tokens['input_ids']).unsqueeze(0)\n",
    "    attention_mask = torch.tensor(tokens['attention_mask']).unsqueeze(0)\n",
    "    with torch.no_grad():\n",
    "        outputs = embedding_model(input_ids, attention_mask=attention_mask)\n",
    "    return torch.mean(outputs[0], dim=1).squeeze()\n",
    "\n",
    "\n",
    "df_dataset = pd.DataFrame()\n",
    "df_dataset['vectors'] = df['lyrics'].apply(embed)\n",
    "df_dataset.head()"
   ]
  },
  {
   "cell_type": "code",
   "execution_count": 41,
   "metadata": {},
   "outputs": [
    {
     "data": {
      "text/plain": [
       "array(['Travis Scott', 'The Beatles', 'Queen'], dtype=object)"
      ]
     },
     "execution_count": 41,
     "metadata": {},
     "output_type": "execute_result"
    }
   ],
   "source": [
    "df.artist.unique()"
   ]
  },
  {
   "cell_type": "code",
   "execution_count": 42,
   "metadata": {},
   "outputs": [
    {
     "data": {
      "text/plain": [
       "tensor([0, 0, 1])"
      ]
     },
     "execution_count": 42,
     "metadata": {},
     "output_type": "execute_result"
    }
   ],
   "source": [
    "stt = {\n",
    "    'Travis Scott': torch.tensor([1, 0, 0]),\n",
    "    'The Beatles': torch.tensor([0, 1, 0]),\n",
    "    'Queen': torch.tensor([0, 0, 1])\n",
    "}\n",
    "\n",
    "tts = {\n",
    "    str(torch.tensor([1, 0, 0])): 'Travis Scott',\n",
    "    str(torch.tensor([0, 1, 0])): 'The Beatles',\n",
    "    str(torch.tensor([0, 0, 1])): 'Queen'\n",
    "}\n",
    "\n",
    "def encode_label(label: str):\n",
    "    return stt[label]\n",
    "\n",
    "def decode_label(label: torch.tensor) -> str:\n",
    "    return tts[str(label)]\n",
    "\n",
    "encode_label(\"Queen\")"
   ]
  },
  {
   "cell_type": "code",
   "execution_count": 43,
   "metadata": {},
   "outputs": [
    {
     "data": {
      "text/html": [
       "<div>\n",
       "<style scoped>\n",
       "    .dataframe tbody tr th:only-of-type {\n",
       "        vertical-align: middle;\n",
       "    }\n",
       "\n",
       "    .dataframe tbody tr th {\n",
       "        vertical-align: top;\n",
       "    }\n",
       "\n",
       "    .dataframe thead th {\n",
       "        text-align: right;\n",
       "    }\n",
       "</style>\n",
       "<table border=\"1\" class=\"dataframe\">\n",
       "  <thead>\n",
       "    <tr style=\"text-align: right;\">\n",
       "      <th></th>\n",
       "      <th>vectors</th>\n",
       "      <th>artist</th>\n",
       "    </tr>\n",
       "  </thead>\n",
       "  <tbody>\n",
       "    <tr>\n",
       "      <th>0</th>\n",
       "      <td>[tensor(0.0428), tensor(-0.0517), tensor(0.122...</td>\n",
       "      <td>[tensor(1), tensor(0), tensor(0)]</td>\n",
       "    </tr>\n",
       "    <tr>\n",
       "      <th>1</th>\n",
       "      <td>[tensor(-0.0514), tensor(-0.0310), tensor(0.10...</td>\n",
       "      <td>[tensor(1), tensor(0), tensor(0)]</td>\n",
       "    </tr>\n",
       "    <tr>\n",
       "      <th>2</th>\n",
       "      <td>[tensor(-0.0152), tensor(-0.0518), tensor(0.13...</td>\n",
       "      <td>[tensor(1), tensor(0), tensor(0)]</td>\n",
       "    </tr>\n",
       "    <tr>\n",
       "      <th>3</th>\n",
       "      <td>[tensor(0.0536), tensor(-0.0091), tensor(0.084...</td>\n",
       "      <td>[tensor(1), tensor(0), tensor(0)]</td>\n",
       "    </tr>\n",
       "    <tr>\n",
       "      <th>4</th>\n",
       "      <td>[tensor(0.0712), tensor(-0.1449), tensor(0.043...</td>\n",
       "      <td>[tensor(0), tensor(1), tensor(0)]</td>\n",
       "    </tr>\n",
       "  </tbody>\n",
       "</table>\n",
       "</div>"
      ],
      "text/plain": [
       "                                             vectors   \n",
       "0  [tensor(0.0428), tensor(-0.0517), tensor(0.122...  \\\n",
       "1  [tensor(-0.0514), tensor(-0.0310), tensor(0.10...   \n",
       "2  [tensor(-0.0152), tensor(-0.0518), tensor(0.13...   \n",
       "3  [tensor(0.0536), tensor(-0.0091), tensor(0.084...   \n",
       "4  [tensor(0.0712), tensor(-0.1449), tensor(0.043...   \n",
       "\n",
       "                              artist  \n",
       "0  [tensor(1), tensor(0), tensor(0)]  \n",
       "1  [tensor(1), tensor(0), tensor(0)]  \n",
       "2  [tensor(1), tensor(0), tensor(0)]  \n",
       "3  [tensor(1), tensor(0), tensor(0)]  \n",
       "4  [tensor(0), tensor(1), tensor(0)]  "
      ]
     },
     "execution_count": 43,
     "metadata": {},
     "output_type": "execute_result"
    }
   ],
   "source": [
    "df_dataset['artist'] = df['artist'].apply(encode_label)\n",
    "df_dataset.head()"
   ]
  },
  {
   "attachments": {},
   "cell_type": "markdown",
   "metadata": {},
   "source": [
    "**model??**\n",
    "\n",
    "let's see if you really trap"
   ]
  },
  {
   "cell_type": "code",
   "execution_count": 44,
   "metadata": {},
   "outputs": [],
   "source": [
    "import torch\n",
    "import torch.nn as nn\n",
    "import torch.nn.functional as F\n",
    "from torch.utils.data import Dataset, DataLoader"
   ]
  },
  {
   "cell_type": "code",
   "execution_count": 45,
   "metadata": {},
   "outputs": [],
   "source": [
    "device = torch.device(\"cuda\" if torch.cuda.is_available() else \"cpu\")"
   ]
  },
  {
   "cell_type": "code",
   "execution_count": 46,
   "metadata": {},
   "outputs": [],
   "source": [
    "class Net(nn.Module):\n",
    "\n",
    "    def __init__(self, input_units, output_units):\n",
    "        super().__init__()\n",
    "        self.fc1 = nn.Linear(input_units, 1024)\n",
    "        self.fc2 = nn.Linear(1024, 2048)\n",
    "        self.fc3 = nn.Linear(2048, 4096)\n",
    "        self.fc4 = nn.Linear(4096, 2048)\n",
    "        self.fc5 = nn.Linear(2048, 2048)\n",
    "        self.fc6 = nn.Linear(2048, 84)\n",
    "        self.fc7 = nn.Linear(84, output_units)\n",
    "\n",
    "    def forward(self, x):\n",
    "        x = F.relu(self.fc1(x))\n",
    "        x = F.relu(self.fc2(x))\n",
    "        x = F.relu(self.fc3(x))\n",
    "        x = F.relu(self.fc4(x))\n",
    "        x = F.relu(self.fc5(x))\n",
    "        x = F.relu(self.fc6(x))\n",
    "        x = F.softmax(self.fc7(x), dim=1)\n",
    "        return x"
   ]
  },
  {
   "attachments": {},
   "cell_type": "markdown",
   "metadata": {},
   "source": [
    "**turn of the autotune(copilot)\\\n",
    "lets see if you really rap**"
   ]
  },
  {
   "cell_type": "code",
   "execution_count": 47,
   "metadata": {},
   "outputs": [],
   "source": [
    "# initialize model\n",
    "net = Net(768, 3).to(device)\n",
    "epoch_count = 0"
   ]
  },
  {
   "cell_type": "code",
   "execution_count": 48,
   "metadata": {},
   "outputs": [],
   "source": [
    "# CONSTANTS\n",
    "torch.manual_seed(42)\n",
    "train_size = 0.8\n",
    "learning_rate = 0.00001\n",
    "num_epochs = 60"
   ]
  },
  {
   "cell_type": "code",
   "execution_count": 49,
   "metadata": {},
   "outputs": [],
   "source": [
    "class MyDataset(Dataset):\n",
    "    def __init__(self, dataframe):\n",
    "        self.data = dataframe.values\n",
    "\n",
    "    def __len__(self):\n",
    "        return len(self.data)\n",
    "\n",
    "    def __getitem__(self, idx):\n",
    "        return torch.stack(list(self.data[idx, 0])), torch.stack(list(self.data[idx, -1]))\n",
    "    \n",
    "split = int(train_size * len(df_dataset))\n",
    "train_dataset = MyDataset(df_dataset[:split])\n",
    "test_dataset = MyDataset(df_dataset[split:])\n",
    "\n",
    "criterion = nn.CrossEntropyLoss()\n",
    "optimizer = torch.optim.Adam(net.parameters(), lr=learning_rate)"
   ]
  },
  {
   "cell_type": "code",
   "execution_count": 50,
   "metadata": {},
   "outputs": [],
   "source": [
    "train_dataloader = DataLoader(train_dataset, batch_size=32, shuffle=True)\n",
    "test_dataloader = DataLoader(test_dataset, batch_size=32, shuffle=True)"
   ]
  },
  {
   "attachments": {},
   "cell_type": "markdown",
   "metadata": {},
   "source": [
    "**training**"
   ]
  },
  {
   "cell_type": "code",
   "execution_count": 51,
   "metadata": {},
   "outputs": [],
   "source": [
    "def multi_class_accuracy(preds: torch.Tensor, target: torch.Tensor) -> float:\n",
    "    return ((torch.argmax(preds, dim=1) == torch.argmax(target, dim=1)) * 1).sum()\\\n",
    "        / target.shape[0]"
   ]
  },
  {
   "cell_type": "code",
   "execution_count": 52,
   "metadata": {},
   "outputs": [],
   "source": [
    "def train_pass(\n",
    "    model: torch.nn.Module,\n",
    "    dataset: list,\n",
    "    loss_function: torch.nn.Module,\n",
    "    optimizer: torch.optim.Optimizer,\n",
    "    accuracy_function,\n",
    "    device: torch.device=device,\n",
    "    display: bool=False) -> dict:\n",
    "    \n",
    "    model.train()\n",
    "    train_acc, train_loss = 0, 0\n",
    "    N = len(dataset)\n",
    "\n",
    "    for X, y in dataset:\n",
    "        X, y = X.to(device).float(), y.to(device).float()\n",
    "        # forward pass\n",
    "        y_pred = model(X)\n",
    "        loss = loss_function(input=y_pred, target=y)\n",
    "\n",
    "        train_acc += accuracy_function(preds=y_pred, target=y)\n",
    "        train_loss += loss\n",
    "\n",
    "        # backward pass\n",
    "        optimizer.zero_grad()\n",
    "        loss.backward()\n",
    "        optimizer.step()\n",
    "\n",
    "    train_loss /= N\n",
    "    train_acc /= N\n",
    "\n",
    "    if display:\n",
    "        print(f'🔨Train loss: {train_loss:.4f} || Train acc: {train_acc:.4f}')\n",
    "\n",
    "    results = {\n",
    "        'train_loss': train_loss,\n",
    "        'train_accuracy': train_acc\n",
    "    }\n",
    "\n",
    "    return results\n",
    "\n",
    "\n",
    "def test_pass(\n",
    "    dataset,\n",
    "    model: torch.nn.Module,\n",
    "    loss_function: torch.nn.Module,\n",
    "    accuracy_function,\n",
    "    device: torch.device=device,\n",
    "    display: bool=False) -> dict:\n",
    "\n",
    "    test_loss, test_acc = 0, 0\n",
    "    N = len(dataset)\n",
    "\n",
    "    for batch, (X, y) in enumerate(dataset):\n",
    "        \n",
    "        X, y = X.to(device).float(), y.to(device).float()\n",
    "\n",
    "        test_pred = model(X)\n",
    "        test_loss += loss_function(input=test_pred, target=y)\n",
    "\n",
    "        test_acc += accuracy_function(preds=test_pred, target=y)\n",
    "\n",
    "    test_loss /= N\n",
    "    test_acc /= N\n",
    "    if display:\n",
    "        print(f'🧐Test loss: {test_loss:.4f} || Test acc: {test_acc:.4f}')\n",
    "\n",
    "    results = {\n",
    "        'test_loss': test_loss.cpu().detach().float(),\n",
    "        'test_accuracy': test_acc.cpu().detach().float()\n",
    "    }\n",
    "\n",
    "    return results"
   ]
  },
  {
   "cell_type": "code",
   "execution_count": 53,
   "metadata": {},
   "outputs": [
    {
     "name": "stdout",
     "output_type": "stream",
     "text": [
      "Epoch 1/60\n",
      "🔨Train loss: 1.1008 || Train acc: 0.3047\n",
      "🧐Test loss: 1.0942 || Test acc: 0.4107\n",
      "Epoch 2/60\n",
      "🔨Train loss: 1.0992 || Train acc: 0.3242\n",
      "🧐Test loss: 1.0940 || Test acc: 0.4107\n",
      "Epoch 3/60\n",
      "🔨Train loss: 1.0995 || Train acc: 0.3086\n",
      "🧐Test loss: 1.0930 || Test acc: 0.4174\n",
      "Epoch 4/60\n",
      "🔨Train loss: 1.0989 || Train acc: 0.3086\n",
      "🧐Test loss: 1.0923 || Test acc: 0.4152\n",
      "Epoch 5/60\n",
      "🔨Train loss: 1.0970 || Train acc: 0.3242\n",
      "🧐Test loss: 1.0909 || Test acc: 0.4152\n",
      "Epoch 6/60\n",
      "🔨Train loss: 1.0971 || Train acc: 0.3047\n",
      "🧐Test loss: 1.0885 || Test acc: 0.4196\n",
      "Epoch 7/60\n",
      "🔨Train loss: 1.0944 || Train acc: 0.3125\n",
      "🧐Test loss: 1.0860 || Test acc: 0.4196\n",
      "Epoch 8/60\n",
      "🔨Train loss: 1.0905 || Train acc: 0.3281\n",
      "🧐Test loss: 1.0821 || Test acc: 0.4174\n",
      "Epoch 9/60\n",
      "🔨Train loss: 1.0878 || Train acc: 0.3281\n",
      "🧐Test loss: 1.0767 || Test acc: 0.5558\n",
      "Epoch 10/60\n",
      "🔨Train loss: 1.0817 || Train acc: 0.5781\n",
      "🧐Test loss: 1.0686 || Test acc: 0.6696\n",
      "Epoch 11/60\n",
      "🔨Train loss: 1.0713 || Train acc: 0.6016\n",
      "🧐Test loss: 1.0556 || Test acc: 0.6674\n",
      "Epoch 12/60\n",
      "🔨Train loss: 1.0603 || Train acc: 0.5898\n",
      "🧐Test loss: 1.0365 || Test acc: 0.6830\n",
      "Epoch 13/60\n",
      "🔨Train loss: 1.0413 || Train acc: 0.6094\n",
      "🧐Test loss: 1.0094 || Test acc: 0.6897\n",
      "Epoch 14/60\n",
      "🔨Train loss: 1.0123 || Train acc: 0.6172\n",
      "🧐Test loss: 0.9751 || Test acc: 0.6830\n",
      "Epoch 15/60\n",
      "🔨Train loss: 0.9884 || Train acc: 0.6055\n",
      "🧐Test loss: 0.9372 || Test acc: 0.7098\n",
      "Epoch 16/60\n",
      "🔨Train loss: 0.9527 || Train acc: 0.6602\n",
      "🧐Test loss: 0.8981 || Test acc: 0.7478\n",
      "Epoch 17/60\n",
      "🔨Train loss: 0.9227 || Train acc: 0.6523\n",
      "🧐Test loss: 0.8657 || Test acc: 0.6763\n",
      "Epoch 18/60\n",
      "🔨Train loss: 0.9090 || Train acc: 0.6289\n",
      "🧐Test loss: 0.8471 || Test acc: 0.7545\n",
      "Epoch 19/60\n",
      "🔨Train loss: 0.8985 || Train acc: 0.6484\n",
      "🧐Test loss: 0.8320 || Test acc: 0.7054\n",
      "Epoch 20/60\n",
      "🔨Train loss: 0.8855 || Train acc: 0.6484\n",
      "🧐Test loss: 0.8269 || Test acc: 0.7165\n",
      "Epoch 21/60\n",
      "🔨Train loss: 0.8907 || Train acc: 0.6562\n",
      "🧐Test loss: 0.8242 || Test acc: 0.7009\n",
      "Epoch 22/60\n",
      "🔨Train loss: 0.8756 || Train acc: 0.6875\n",
      "🧐Test loss: 0.8199 || Test acc: 0.7500\n",
      "Epoch 23/60\n",
      "🔨Train loss: 0.8733 || Train acc: 0.6680\n",
      "🧐Test loss: 0.8132 || Test acc: 0.7366\n",
      "Epoch 24/60\n",
      "🔨Train loss: 0.8681 || Train acc: 0.6953\n",
      "🧐Test loss: 0.8124 || Test acc: 0.7299\n",
      "Epoch 25/60\n",
      "🔨Train loss: 0.8679 || Train acc: 0.6797\n",
      "🧐Test loss: 0.8073 || Test acc: 0.7366\n",
      "Epoch 26/60\n",
      "🔨Train loss: 0.8552 || Train acc: 0.7148\n",
      "🧐Test loss: 0.8109 || Test acc: 0.6964\n",
      "Epoch 27/60\n",
      "🔨Train loss: 0.8556 || Train acc: 0.6836\n",
      "🧐Test loss: 0.8045 || Test acc: 0.7701\n",
      "Epoch 28/60\n",
      "🔨Train loss: 0.8445 || Train acc: 0.7305\n",
      "🧐Test loss: 0.8021 || Test acc: 0.7165\n",
      "Epoch 29/60\n",
      "🔨Train loss: 0.8409 || Train acc: 0.7148\n",
      "🧐Test loss: 0.7978 || Test acc: 0.7656\n",
      "Epoch 30/60\n",
      "🔨Train loss: 0.8383 || Train acc: 0.7227\n",
      "🧐Test loss: 0.7945 || Test acc: 0.7344\n",
      "Epoch 31/60\n",
      "🔨Train loss: 0.8363 || Train acc: 0.7148\n",
      "🧐Test loss: 0.7893 || Test acc: 0.7746\n",
      "Epoch 32/60\n",
      "🔨Train loss: 0.8271 || Train acc: 0.7461\n",
      "🧐Test loss: 0.7908 || Test acc: 0.7232\n",
      "Epoch 33/60\n",
      "🔨Train loss: 0.8198 || Train acc: 0.7656\n",
      "🧐Test loss: 0.7863 || Test acc: 0.7366\n",
      "Epoch 34/60\n",
      "🔨Train loss: 0.8197 || Train acc: 0.7500\n",
      "🧐Test loss: 0.7864 || Test acc: 0.7500\n",
      "Epoch 35/60\n",
      "🔨Train loss: 0.8142 || Train acc: 0.7773\n",
      "🧐Test loss: 0.7852 || Test acc: 0.7455\n",
      "Epoch 36/60\n",
      "🔨Train loss: 0.8099 || Train acc: 0.7461\n",
      "🧐Test loss: 0.7836 || Test acc: 0.8147\n",
      "Epoch 37/60\n",
      "🔨Train loss: 0.8091 || Train acc: 0.7500\n",
      "🧐Test loss: 0.7761 || Test acc: 0.7366\n",
      "Epoch 38/60\n",
      "🔨Train loss: 0.7990 || Train acc: 0.7852\n",
      "🧐Test loss: 0.7729 || Test acc: 0.7344\n",
      "Epoch 39/60\n",
      "🔨Train loss: 0.7922 || Train acc: 0.7812\n",
      "🧐Test loss: 0.7703 || Test acc: 0.7701\n",
      "Epoch 40/60\n",
      "🔨Train loss: 0.7843 || Train acc: 0.7852\n",
      "🧐Test loss: 0.7673 || Test acc: 0.7188\n",
      "Epoch 41/60\n",
      "🔨Train loss: 0.7853 || Train acc: 0.7812\n",
      "🧐Test loss: 0.7663 || Test acc: 0.7165\n",
      "Epoch 42/60\n",
      "🔨Train loss: 0.7827 || Train acc: 0.7930\n",
      "🧐Test loss: 0.7635 || Test acc: 0.7433\n",
      "Epoch 43/60\n",
      "🔨Train loss: 0.7765 || Train acc: 0.7930\n",
      "🧐Test loss: 0.7629 || Test acc: 0.7433\n",
      "Epoch 44/60\n",
      "🔨Train loss: 0.7698 || Train acc: 0.7891\n",
      "🧐Test loss: 0.7576 || Test acc: 0.7634\n",
      "Epoch 45/60\n",
      "🔨Train loss: 0.7570 || Train acc: 0.8086\n",
      "🧐Test loss: 0.7577 || Test acc: 0.7612\n",
      "Epoch 46/60\n",
      "🔨Train loss: 0.7560 || Train acc: 0.8164\n",
      "🧐Test loss: 0.7494 || Test acc: 0.7701\n",
      "Epoch 47/60\n",
      "🔨Train loss: 0.7518 || Train acc: 0.8164\n",
      "🧐Test loss: 0.7501 || Test acc: 0.7857\n",
      "Epoch 48/60\n",
      "🔨Train loss: 0.7488 || Train acc: 0.8281\n",
      "🧐Test loss: 0.7493 || Test acc: 0.8013\n",
      "Epoch 49/60\n",
      "🔨Train loss: 0.7507 || Train acc: 0.8164\n",
      "🧐Test loss: 0.7461 || Test acc: 0.7634\n",
      "Epoch 50/60\n",
      "🔨Train loss: 0.7462 || Train acc: 0.8125\n",
      "🧐Test loss: 0.7458 || Test acc: 0.7746\n",
      "Epoch 51/60\n",
      "🔨Train loss: 0.7337 || Train acc: 0.8281\n",
      "🧐Test loss: 0.7496 || Test acc: 0.7768\n",
      "Epoch 52/60\n",
      "🔨Train loss: 0.7314 || Train acc: 0.8359\n",
      "🧐Test loss: 0.7411 || Test acc: 0.7991\n",
      "Epoch 53/60\n",
      "🔨Train loss: 0.7278 || Train acc: 0.8398\n",
      "🧐Test loss: 0.7411 || Test acc: 0.7991\n",
      "Epoch 54/60\n",
      "🔨Train loss: 0.7221 || Train acc: 0.8555\n",
      "🧐Test loss: 0.7352 || Test acc: 0.7701\n",
      "Epoch 55/60\n",
      "🔨Train loss: 0.7191 || Train acc: 0.8555\n",
      "🧐Test loss: 0.7413 || Test acc: 0.8281\n",
      "Epoch 56/60\n",
      "🔨Train loss: 0.7218 || Train acc: 0.8594\n",
      "🧐Test loss: 0.7312 || Test acc: 0.8192\n",
      "Epoch 57/60\n",
      "🔨Train loss: 0.7236 || Train acc: 0.8438\n",
      "🧐Test loss: 0.7387 || Test acc: 0.7679\n",
      "Epoch 58/60\n",
      "🔨Train loss: 0.7241 || Train acc: 0.8516\n",
      "🧐Test loss: 0.7276 || Test acc: 0.8192\n",
      "Epoch 59/60\n",
      "🔨Train loss: 0.7062 || Train acc: 0.8750\n",
      "🧐Test loss: 0.7284 || Test acc: 0.8170\n",
      "Epoch 60/60\n",
      "🔨Train loss: 0.6915 || Train acc: 0.8906\n",
      "🧐Test loss: 0.7323 || Test acc: 0.8147\n"
     ]
    }
   ],
   "source": [
    "for n, epoch in enumerate(range(num_epochs)):\n",
    "    print(f'Epoch {epoch_count + n+1}/{epoch_count + num_epochs}')\n",
    "    train_results = train_pass(\n",
    "        model=net,\n",
    "        dataset=train_dataloader,\n",
    "        loss_function=criterion,\n",
    "        optimizer=optimizer,\n",
    "        accuracy_function=multi_class_accuracy,\n",
    "        device=device,\n",
    "        display=True\n",
    "    )\n",
    "\n",
    "    test_results = test_pass(\n",
    "        dataset=test_dataloader,\n",
    "        model=net,\n",
    "        loss_function=criterion,\n",
    "        accuracy_function=multi_class_accuracy,\n",
    "        device=device,\n",
    "        display=True\n",
    "    )"
   ]
  },
  {
   "attachments": {},
   "cell_type": "markdown",
   "metadata": {},
   "source": [
    "**markus? which markus, our markus?**\n",
    "\n",
    "**lets decode**\n",
    "\n",
    "**lyrics -> embeddings -> model -> class(one hot) -> artist name**"
   ]
  },
  {
   "cell_type": "code",
   "execution_count": 54,
   "metadata": {},
   "outputs": [],
   "source": [
    "mafia_path = \"../data/inference_data/MAFIA.txt\"\n",
    "all_my_love_path = \"../data/inference_data/all_my_loving.txt\"\n",
    "bohemian_path = \"../data/inference_data/in_39.txt\""
   ]
  },
  {
   "cell_type": "code",
   "execution_count": 55,
   "metadata": {},
   "outputs": [],
   "source": [
    "def predict(model, text, device=device):\n",
    "    X = embed(clean_up_text(text))\n",
    "    model.eval()\n",
    "    with torch.no_grad():\n",
    "        X = X.unsqueeze(dim=0).to(device).float()\n",
    "        y_pred = model(X)\n",
    "        y_pred = torch.zeros_like(y_pred).scatter_(\n",
    "            1, torch.argmax(y_pred, dim=1).unsqueeze(dim=1), 1)\n",
    "        return decode_label(y_pred.squeeze(dim=0).to(int))"
   ]
  },
  {
   "cell_type": "code",
   "execution_count": 58,
   "metadata": {},
   "outputs": [
    {
     "name": "stdout",
     "output_type": "stream",
     "text": [
      "Artist: Travis Scott, prediction: Travis Scott\n",
      "Artis: The Beatles, prediction: The Beatles\n",
      "Artist: Queen, prediction: The Beatles\n"
     ]
    }
   ],
   "source": [
    "travis_lyrics = open(mafia_path, 'r').read()\n",
    "beatles_lyrics = open(all_my_love_path, 'r').read()\n",
    "queen_lyrics = open(bohemian_path, 'r').read()\n",
    "\n",
    "print('Artist: Travis Scott, prediction:', predict(net, travis_lyrics))\n",
    "print('Artis: The Beatles, prediction:', predict(net, beatles_lyrics))\n",
    "print('Artist: Queen, prediction:', predict(net, queen_lyrics))"
   ]
  },
  {
   "attachments": {},
   "cell_type": "markdown",
   "metadata": {},
   "source": [
    "**let's save the model**"
   ]
  },
  {
   "cell_type": "code",
   "execution_count": 57,
   "metadata": {},
   "outputs": [],
   "source": [
    "torch.save(net.state_dict(), '../models/lyrics_classifier_level_1.pt')"
   ]
  }
 ],
 "metadata": {
  "kernelspec": {
   "display_name": "samsung-venv",
   "language": "python",
   "name": "python3"
  },
  "language_info": {
   "codemirror_mode": {
    "name": "ipython",
    "version": 3
   },
   "file_extension": ".py",
   "mimetype": "text/x-python",
   "name": "python",
   "nbconvert_exporter": "python",
   "pygments_lexer": "ipython3",
   "version": "3.10.6"
  },
  "orig_nbformat": 4,
  "vscode": {
   "interpreter": {
    "hash": "e45c6efbcd79cd7473ed712f971cb7abd2c2692e182cafe90473b71e016b4287"
   }
  }
 },
 "nbformat": 4,
 "nbformat_minor": 2
}
