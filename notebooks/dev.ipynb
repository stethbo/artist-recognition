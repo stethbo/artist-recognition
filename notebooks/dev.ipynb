{
 "cells": [
  {
   "cell_type": "code",
   "execution_count": null,
   "metadata": {},
   "outputs": [],
   "source": [
    "import sys\n",
    "import os\n",
    "import pandas as pd\n",
    "import re"
   ]
  },
  {
   "cell_type": "code",
   "execution_count": null,
   "metadata": {},
   "outputs": [],
   "source": [
    "sys.path.append(\"../\")\n",
    "from src.embeddings import remove_stop_words"
   ]
  },
  {
   "cell_type": "code",
   "execution_count": null,
   "metadata": {},
   "outputs": [],
   "source": [
    "DATA_FOLDER = \"../data/genius_lyrics\"\n",
    "ARTISTS = [\"Travis Scott\", \"Queen\", \"The Beatles\"]"
   ]
  },
  {
   "attachments": {},
   "cell_type": "markdown",
   "metadata": {},
   "source": [
    "**getting the data into pandas**"
   ]
  },
  {
   "cell_type": "code",
   "execution_count": null,
   "metadata": {},
   "outputs": [],
   "source": [
    "df = pd.DataFrame()\n",
    "for filename in os.listdir(DATA_FOLDER):\n",
    "    artist_name = filename.split('.')[0]\n",
    "    if artist_name in ARTISTS:\n",
    "        temp_df = pd.read_csv(os.path.join(DATA_FOLDER, filename),\n",
    "                usecols=['artist', 'title', 'lyrics'])\n",
    "        df = pd.concat([df, temp_df])\n",
    "\n",
    "df.head()"
   ]
  },
  {
   "cell_type": "code",
   "execution_count": null,
   "metadata": {},
   "outputs": [],
   "source": [
    "df.artist.value_counts()"
   ]
  },
  {
   "cell_type": "code",
   "execution_count": null,
   "metadata": {},
   "outputs": [],
   "source": [
    "def clean_up_text(sentence):\n",
    "    sentence = str(sentence).lower()\n",
    "    sentence = re.sub(\"\\[.*\\]\", \"\", sentence)  # remove sections markings in brakets\n",
    "    sentence = re.sub(r'[^\\w]', ' ', sentence)  # romove punctuation\n",
    "    sentence = re.sub(r'[0-9]', '', sentence)  # remove numbers\n",
    "    sentence = re.sub(r'\\s[a-z]\\s', ' ', sentence)  # remove single characters\n",
    "    sentence = re.sub(r'^[a-z]\\s', '', sentence)  # remove single characters from the start\n",
    "    sentence = re.sub(r'\\s+', ' ', sentence).strip()  # remove extra spaces\n",
    "\n",
    "    sentence =  re.sub(r'.* lyrics', '', sentence)\n",
    "    \n",
    "\n",
    "    return sentence\n",
    "\n",
    "df.lyrics = df.lyrics.apply(clean_up_text)\n",
    "df.lyrics = df.lyrics.apply(remove_stop_words)"
   ]
  },
  {
   "cell_type": "code",
   "execution_count": null,
   "metadata": {},
   "outputs": [],
   "source": [
    "df = df.sort_values(by='title')\n",
    "df = df.reset_index(drop=True)\n",
    "df.head()"
   ]
  },
  {
   "attachments": {},
   "cell_type": "markdown",
   "metadata": {},
   "source": [
    "**lets get those embeddings**"
   ]
  },
  {
   "cell_type": "code",
   "execution_count": null,
   "metadata": {},
   "outputs": [],
   "source": [
    "import torch\n",
    "from transformers import RobertaTokenizer, RobertaModel\n",
    "\n",
    "tokenizer = RobertaTokenizer.from_pretrained('roberta-base')\n",
    "embedding_model = RobertaModel.from_pretrained('roberta-base')\n",
    "\n",
    "\n",
    "def embed(sentence):\n",
    "    tokens = tokenizer.encode_plus(sentence, add_special_tokens=True, max_length=512, return_token_type_ids=True, padding=\"max_length\", truncation=True)\n",
    "    input_ids = torch.tensor(tokens['input_ids']).unsqueeze(0)\n",
    "    attention_mask = torch.tensor(tokens['attention_mask']).unsqueeze(0)\n",
    "    with torch.no_grad():\n",
    "        outputs = embedding_model(input_ids, attention_mask=attention_mask)\n",
    "    return torch.mean(outputs[0], dim=1).squeeze()\n",
    "\n",
    "\n",
    "df_dataset = pd.DataFrame()\n",
    "df_dataset['vectors'] = df['lyrics'].apply(embed)\n",
    "df_dataset.head()"
   ]
  },
  {
   "cell_type": "code",
   "execution_count": null,
   "metadata": {},
   "outputs": [],
   "source": [
    "df.artist.unique()"
   ]
  },
  {
   "cell_type": "code",
   "execution_count": null,
   "metadata": {},
   "outputs": [],
   "source": [
    "# string to tensor\n",
    "stt = {s: torch.eye(len(ARTISTS))[n] for n, s in enumerate(ARTISTS)}\n",
    "stt"
   ]
  },
  {
   "cell_type": "code",
   "execution_count": null,
   "metadata": {},
   "outputs": [],
   "source": [
    "# tesnor to string\n",
    "tts = {str(v): k for k, v in stt.items()}\n",
    "tts"
   ]
  },
  {
   "cell_type": "code",
   "execution_count": null,
   "metadata": {},
   "outputs": [],
   "source": [
    "def encode_label(label: str):\n",
    "    return stt[label]\n",
    "\n",
    "def decode_label(label: torch.tensor) -> str:\n",
    "    return tts[str(label)]\n",
    "\n",
    "encode_label(\"Queen\"), decode_label(torch.tensor([1., 0., 0.]))"
   ]
  },
  {
   "cell_type": "code",
   "execution_count": null,
   "metadata": {},
   "outputs": [],
   "source": [
    "df_dataset['artist'] = df['artist'].apply(encode_label)\n",
    "df_dataset.head()"
   ]
  },
  {
   "attachments": {},
   "cell_type": "markdown",
   "metadata": {},
   "source": [
    "**model??**\n",
    "\n",
    "let's see if you really trap"
   ]
  },
  {
   "cell_type": "code",
   "execution_count": null,
   "metadata": {},
   "outputs": [],
   "source": [
    "import torch\n",
    "import torch.nn as nn\n",
    "import torch.nn.functional as F\n",
    "from torch.utils.data import Dataset, DataLoader"
   ]
  },
  {
   "cell_type": "code",
   "execution_count": null,
   "metadata": {},
   "outputs": [],
   "source": [
    "device = torch.device(\"cuda\" if torch.cuda.is_available() else \"cpu\")"
   ]
  },
  {
   "cell_type": "code",
   "execution_count": null,
   "metadata": {},
   "outputs": [],
   "source": [
    "class Net(nn.Module):\n",
    "\n",
    "    def __init__(self, input_units, output_units):\n",
    "        super().__init__()\n",
    "        self.fc1 = nn.Linear(input_units, 1024)\n",
    "        self.fc2 = nn.Linear(1024, 2048)\n",
    "        self.fc3 = nn.Linear(2048, 4096)\n",
    "        self.fc4 = nn.Linear(4096, 2048)\n",
    "        self.fc5 = nn.Linear(2048, 2048)\n",
    "        self.fc6 = nn.Linear(2048, 84)\n",
    "        self.fc7 = nn.Linear(84, output_units)\n",
    "\n",
    "    def forward(self, x):\n",
    "        x = F.relu(self.fc1(x))\n",
    "        x = F.relu(self.fc2(x))\n",
    "        x = F.relu(self.fc3(x))\n",
    "        x = F.relu(self.fc4(x))\n",
    "        x = F.relu(self.fc5(x))\n",
    "        x = F.relu(self.fc6(x))\n",
    "        x = F.softmax(self.fc7(x), dim=1)\n",
    "        return x"
   ]
  },
  {
   "attachments": {},
   "cell_type": "markdown",
   "metadata": {},
   "source": [
    "**turn of the autotune(copilot)\\\n",
    "lets see if you really rap**"
   ]
  },
  {
   "cell_type": "code",
   "execution_count": null,
   "metadata": {},
   "outputs": [],
   "source": [
    "# initialize model\n",
    "net = Net(768, 3).to(device)\n",
    "epoch_count = 0"
   ]
  },
  {
   "cell_type": "code",
   "execution_count": null,
   "metadata": {},
   "outputs": [],
   "source": [
    "# CONSTANTS\n",
    "torch.manual_seed(42)\n",
    "train_size = 0.8\n",
    "learning_rate = 0.000001\n",
    "num_epochs = 20"
   ]
  },
  {
   "cell_type": "code",
   "execution_count": null,
   "metadata": {},
   "outputs": [],
   "source": [
    "class MyDataset(Dataset):\n",
    "    def __init__(self, dataframe):\n",
    "        self.data = dataframe.values\n",
    "\n",
    "    def __len__(self):\n",
    "        return len(self.data)\n",
    "\n",
    "    def __getitem__(self, idx):\n",
    "        return torch.stack(list(self.data[idx, 0])), torch.stack(list(self.data[idx, -1]))\n",
    "    \n",
    "split = int(train_size * len(df_dataset))\n",
    "train_dataset = MyDataset(df_dataset[:split])\n",
    "test_dataset = MyDataset(df_dataset[split:])\n",
    "\n",
    "criterion = nn.CrossEntropyLoss()\n",
    "optimizer = torch.optim.Adam(net.parameters(), lr=learning_rate)"
   ]
  },
  {
   "cell_type": "code",
   "execution_count": null,
   "metadata": {},
   "outputs": [],
   "source": [
    "train_dataloader = DataLoader(train_dataset, batch_size=32, shuffle=True)\n",
    "test_dataloader = DataLoader(test_dataset, batch_size=32, shuffle=True)"
   ]
  },
  {
   "attachments": {},
   "cell_type": "markdown",
   "metadata": {},
   "source": [
    "**training**"
   ]
  },
  {
   "cell_type": "code",
   "execution_count": null,
   "metadata": {},
   "outputs": [],
   "source": [
    "def multi_class_accuracy(preds: torch.Tensor, target: torch.Tensor) -> float:\n",
    "    return ((torch.argmax(preds, dim=1) == torch.argmax(target, dim=1)) * 1).sum()\\\n",
    "        / target.shape[0]"
   ]
  },
  {
   "cell_type": "code",
   "execution_count": null,
   "metadata": {},
   "outputs": [],
   "source": [
    "def train_pass(\n",
    "    model: torch.nn.Module,\n",
    "    dataset: list,\n",
    "    loss_function: torch.nn.Module,\n",
    "    optimizer: torch.optim.Optimizer,\n",
    "    accuracy_function,\n",
    "    device: torch.device=device,\n",
    "    display: bool=False) -> dict:\n",
    "    \n",
    "    model.train()\n",
    "    train_acc, train_loss = 0, 0\n",
    "    N = len(dataset)\n",
    "\n",
    "    for X, y in dataset:\n",
    "        X, y = X.to(device).float(), y.to(device).float()\n",
    "        # forward pass\n",
    "        y_pred = model(X)\n",
    "        loss = loss_function(input=y_pred, target=y)\n",
    "\n",
    "        train_acc += accuracy_function(preds=y_pred, target=y)\n",
    "        train_loss += loss\n",
    "\n",
    "        # backward pass\n",
    "        optimizer.zero_grad()\n",
    "        loss.backward()\n",
    "        optimizer.step()\n",
    "\n",
    "    train_loss /= N\n",
    "    train_acc /= N\n",
    "\n",
    "    if display:\n",
    "        print(f'🔨Train loss: {train_loss:.4f} || Train acc: {train_acc:.4f}')\n",
    "\n",
    "    results = {\n",
    "        'train_loss': train_loss,\n",
    "        'train_accuracy': train_acc\n",
    "    }\n",
    "\n",
    "    return results\n",
    "\n",
    "\n",
    "def test_pass(\n",
    "    dataset,\n",
    "    model: torch.nn.Module,\n",
    "    loss_function: torch.nn.Module,\n",
    "    accuracy_function,\n",
    "    device: torch.device=device,\n",
    "    display: bool=False) -> dict:\n",
    "\n",
    "    test_loss, test_acc = 0, 0\n",
    "    N = len(dataset)\n",
    "\n",
    "    for batch, (X, y) in enumerate(dataset):\n",
    "        \n",
    "        X, y = X.to(device).float(), y.to(device).float()\n",
    "\n",
    "        test_pred = model(X)\n",
    "        test_loss += loss_function(input=test_pred, target=y)\n",
    "\n",
    "        test_acc += accuracy_function(preds=test_pred, target=y)\n",
    "\n",
    "    test_loss /= N\n",
    "    test_acc /= N\n",
    "    if display:\n",
    "        print(f'🧐Test loss: {test_loss:.4f} || Test acc: {test_acc:.4f}')\n",
    "\n",
    "    results = {\n",
    "        'test_loss': test_loss.cpu().detach().float(),\n",
    "        'test_accuracy': test_acc.cpu().detach().float()\n",
    "    }\n",
    "\n",
    "    return results"
   ]
  },
  {
   "cell_type": "code",
   "execution_count": null,
   "metadata": {},
   "outputs": [],
   "source": [
    "model_path = \"../models/lyrics_classifier_level_1.pt\"\n",
    "\n",
    "if os.path.exists(model_path):\n",
    "    net.load_state_dict(torch.load(model_path))\n",
    "else: \n",
    "    print(\"Trainin' the NET...\")\n",
    "    for n, epoch in enumerate(range(num_epochs)):\n",
    "        print(f'Epoch {epoch_count + n+1}/{epoch_count + num_epochs}')\n",
    "        train_results = train_pass(\n",
    "            model=net,\n",
    "            dataset=train_dataloader,\n",
    "            loss_function=criterion,\n",
    "            optimizer=optimizer,\n",
    "            accuracy_function=multi_class_accuracy,\n",
    "            device=device,\n",
    "            display=True\n",
    "        )\n",
    "\n",
    "        test_results = test_pass(\n",
    "            dataset=test_dataloader,\n",
    "            model=net,\n",
    "            loss_function=criterion,\n",
    "            accuracy_function=multi_class_accuracy,\n",
    "            device=device,\n",
    "            display=True\n",
    "        )"
   ]
  },
  {
   "attachments": {},
   "cell_type": "markdown",
   "metadata": {},
   "source": [
    "**markus? which markus, our markus?**\n",
    "\n",
    "**lets decode**\n",
    "\n",
    "**lyrics -> embeddings -> model -> class(one hot) -> artist name**"
   ]
  },
  {
   "cell_type": "code",
   "execution_count": null,
   "metadata": {},
   "outputs": [],
   "source": [
    "mafia_path = \"../data/inference_data/MAFIA.txt\"\n",
    "all_my_love_path = \"../data/inference_data/all_my_loving.txt\"\n",
    "bohemian_path = \"../data/inference_data/in_39.txt\""
   ]
  },
  {
   "attachments": {},
   "cell_type": "markdown",
   "metadata": {},
   "source": [
    "**issue with this prediction**"
   ]
  },
  {
   "cell_type": "code",
   "execution_count": null,
   "metadata": {},
   "outputs": [],
   "source": [
    "def predict(model, text, device=device):\n",
    "    X = embed(clean_up_text(text))\n",
    "    model.eval()\n",
    "    with torch.no_grad():\n",
    "        X = X.unsqueeze(dim=0).to(device).float()\n",
    "        y_pred = model(X)\n",
    "        print(y_pred)\n",
    "        y_pred = torch.zeros_like(y_pred).scatter_(\n",
    "            1, torch.argmax(y_pred, dim=1).unsqueeze(dim=1), 1)\n",
    "        return decode_label(y_pred.squeeze(dim=0))"
   ]
  },
  {
   "cell_type": "code",
   "execution_count": null,
   "metadata": {},
   "outputs": [],
   "source": [
    "travis_lyrics = open(mafia_path, 'r').read()\n",
    "beatles_lyrics = open(all_my_love_path, 'r').read()\n",
    "queen_lyrics = open(bohemian_path, 'r').read()\n",
    "\n",
    "print('Artist: Travis Scott, prediction:', predict(net, travis_lyrics))\n",
    "print('Artis: The Beatles, prediction:', predict(net, beatles_lyrics))\n",
    "print('Artist: Queen, prediction:', predict(net, queen_lyrics))"
   ]
  },
  {
   "cell_type": "code",
   "execution_count": null,
   "metadata": {},
   "outputs": [],
   "source": [
    "lyrics = '''\n",
    "Mama, just killed a man\n",
    "Put a gun against his head, pulled my trigger, now he's dead\n",
    "Mama, life had just begun\n",
    "But now I've gone and thrown it all away\n",
    "Mama, ooh, didn't mean to make you cry\n",
    "If I'm not back again this time tomorrow\n",
    "Carry on, carry on as if nothing really matters\n",
    "\n",
    "[Verse 2]\n",
    "Too late, my time has come\n",
    "Sends shivers down my spine, body's aching all the time\n",
    "Goodbye, everybody, I've got to go\n",
    "Gotta leave you all behind and face the truth\n",
    "Mama, ooh (Any way the wind blows)\n",
    "I don't wanna die\n",
    "I sometimes wish I'd never been born at all\n",
    "[Guitar Solo]\n",
    "\n",
    "[Verse 3]\n",
    "I see a little silhouetto of a man\n",
    "Scaramouche, Scaramouche, will you do the Fandango?\n",
    "Thunderbolt and lightning, very, very frightening me\n",
    "(Galileo) Galileo, (Galileo) Galileo, Galileo Figaro magnifico\n",
    "But I'm just a poor boy, nobody loves me\n",
    "He's just a poor boy from a poor family\n",
    "Spare him his life from this monstrosity\n",
    "Easy come, easy go, will you let me go?\n",
    "Bismillah! No, we will not let you go\n",
    "(Let him go) Bismillah! We will not let you go\n",
    "(Let him go) Bismillah! We will not let you go\n",
    "(Let me go) Will not let you go\n",
    "(Let me go) Will not let you go\n",
    "(Never, never, never, never let me go) Ah\n",
    "No, no, no, no, no, no, no\n",
    "(Oh, mamma mia, mamma mia) Mamma mia, let me go\n",
    "Beelzebub has a devil put aside for me, for me, for me!\n",
    "\n",
    "[Verse 4]\n",
    "So you think you can stone me and spit in my eye?\n",
    "So you think you can love me and leave me to die?\n",
    "Oh, baby, can't do this to me, baby!\n",
    "Just gotta get out, just gotta get right outta here\n",
    "[Outro]\n",
    "(Ooh)\n",
    "(Ooh, yeah, ooh, yeah)\n",
    "Nothing really matters, anyone can see\n",
    "Nothing really matters\n",
    "Nothing really matters to me\n",
    "Any way the wind blows674Embed\n",
    "'''\n",
    "\n",
    "predict(net, lyrics)"
   ]
  },
  {
   "attachments": {},
   "cell_type": "markdown",
   "metadata": {},
   "source": [
    "**let's save the model**"
   ]
  },
  {
   "cell_type": "code",
   "execution_count": null,
   "metadata": {},
   "outputs": [],
   "source": [
    "torch.save(net.state_dict(), '../models/lyrics_classifier_level_1.pt')"
   ]
  },
  {
   "cell_type": "code",
   "execution_count": null,
   "metadata": {},
   "outputs": [],
   "source": []
  }
 ],
 "metadata": {
  "kernelspec": {
   "display_name": "samsung-venv",
   "language": "python",
   "name": "python3"
  },
  "language_info": {
   "codemirror_mode": {
    "name": "ipython",
    "version": 3
   },
   "file_extension": ".py",
   "mimetype": "text/x-python",
   "name": "python",
   "nbconvert_exporter": "python",
   "pygments_lexer": "ipython3",
   "version": "3.11.4"
  },
  "orig_nbformat": 4,
  "vscode": {
   "interpreter": {
    "hash": "e45c6efbcd79cd7473ed712f971cb7abd2c2692e182cafe90473b71e016b4287"
   }
  }
 },
 "nbformat": 4,
 "nbformat_minor": 2
}
