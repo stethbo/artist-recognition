{
 "cells": [
  {
   "cell_type": "code",
   "execution_count": 1,
   "metadata": {},
   "outputs": [],
   "source": [
    "import sys\n",
    "import os\n",
    "import pandas as pd\n",
    "import re"
   ]
  },
  {
   "cell_type": "code",
   "execution_count": 2,
   "metadata": {},
   "outputs": [
    {
     "name": "stderr",
     "output_type": "stream",
     "text": [
      "Some weights of the model checkpoint at roberta-base were not used when initializing RobertaModel: ['lm_head.bias', 'lm_head.dense.bias', 'lm_head.layer_norm.weight', 'lm_head.decoder.weight', 'lm_head.dense.weight', 'lm_head.layer_norm.bias']\n",
      "- This IS expected if you are initializing RobertaModel from the checkpoint of a model trained on another task or with another architecture (e.g. initializing a BertForSequenceClassification model from a BertForPreTraining model).\n",
      "- This IS NOT expected if you are initializing RobertaModel from the checkpoint of a model that you expect to be exactly identical (initializing a BertForSequenceClassification model from a BertForSequenceClassification model).\n",
      "[nltk_data] Downloading package stopwords to /home/stefan/nltk_data...\n",
      "[nltk_data]   Package stopwords is already up-to-date!\n"
     ]
    }
   ],
   "source": [
    "sys.path.append(\"../\")\n",
    "from src.embeddings import remove_stop_words"
   ]
  },
  {
   "cell_type": "code",
   "execution_count": 3,
   "metadata": {},
   "outputs": [],
   "source": [
    "DATA_FOLDER = \"../data/genius_lyrics\"\n",
    "ARTISTS = [\"Travis Scott\", \"Queen\", \"The Beatles\"]"
   ]
  },
  {
   "attachments": {},
   "cell_type": "markdown",
   "metadata": {},
   "source": [
    "**getting the data into pandas**"
   ]
  },
  {
   "cell_type": "code",
   "execution_count": 4,
   "metadata": {},
   "outputs": [
    {
     "data": {
      "text/html": [
       "<div>\n",
       "<style scoped>\n",
       "    .dataframe tbody tr th:only-of-type {\n",
       "        vertical-align: middle;\n",
       "    }\n",
       "\n",
       "    .dataframe tbody tr th {\n",
       "        vertical-align: top;\n",
       "    }\n",
       "\n",
       "    .dataframe thead th {\n",
       "        text-align: right;\n",
       "    }\n",
       "</style>\n",
       "<table border=\"1\" class=\"dataframe\">\n",
       "  <thead>\n",
       "    <tr style=\"text-align: right;\">\n",
       "      <th></th>\n",
       "      <th>artist</th>\n",
       "      <th>title</th>\n",
       "      <th>lyrics</th>\n",
       "    </tr>\n",
       "  </thead>\n",
       "  <tbody>\n",
       "    <tr>\n",
       "      <th>0</th>\n",
       "      <td>Travis Scott</td>\n",
       "      <td>SICKO MODE</td>\n",
       "      <td>SICKO MODE Lyrics[Part I]\\n\\n[Intro: Drake]\\nA...</td>\n",
       "    </tr>\n",
       "    <tr>\n",
       "      <th>1</th>\n",
       "      <td>Travis Scott</td>\n",
       "      <td>​goosebumps</td>\n",
       "      <td>​goosebumps Lyrics[Intro: Travis Scott]\\nYeah\\...</td>\n",
       "    </tr>\n",
       "    <tr>\n",
       "      <th>2</th>\n",
       "      <td>Travis Scott</td>\n",
       "      <td>BUTTERFLY EFFECT</td>\n",
       "      <td>BUTTERFLY EFFECT Lyrics[Intro]\\nAll the commas...</td>\n",
       "    </tr>\n",
       "    <tr>\n",
       "      <th>3</th>\n",
       "      <td>Travis Scott</td>\n",
       "      <td>HIGHEST IN THE ROOM</td>\n",
       "      <td>HIGHEST IN THE ROOM Lyrics[Chorus]\\nI got room...</td>\n",
       "    </tr>\n",
       "    <tr>\n",
       "      <th>4</th>\n",
       "      <td>Travis Scott</td>\n",
       "      <td>Antidote</td>\n",
       "      <td>Antidote Lyrics[Chorus]\\nDon't you open up tha...</td>\n",
       "    </tr>\n",
       "  </tbody>\n",
       "</table>\n",
       "</div>"
      ],
      "text/plain": [
       "         artist                title   \n",
       "0  Travis Scott           SICKO MODE  \\\n",
       "1  Travis Scott          ​goosebumps   \n",
       "2  Travis Scott     BUTTERFLY EFFECT   \n",
       "3  Travis Scott  HIGHEST IN THE ROOM   \n",
       "4  Travis Scott             Antidote   \n",
       "\n",
       "                                              lyrics  \n",
       "0  SICKO MODE Lyrics[Part I]\\n\\n[Intro: Drake]\\nA...  \n",
       "1  ​goosebumps Lyrics[Intro: Travis Scott]\\nYeah\\...  \n",
       "2  BUTTERFLY EFFECT Lyrics[Intro]\\nAll the commas...  \n",
       "3  HIGHEST IN THE ROOM Lyrics[Chorus]\\nI got room...  \n",
       "4  Antidote Lyrics[Chorus]\\nDon't you open up tha...  "
      ]
     },
     "execution_count": 4,
     "metadata": {},
     "output_type": "execute_result"
    }
   ],
   "source": [
    "df = pd.DataFrame()\n",
    "for filename in os.listdir(DATA_FOLDER):\n",
    "    artist_name = filename.split('.')[0]\n",
    "    if artist_name in ARTISTS:\n",
    "        temp_df = pd.read_csv(os.path.join(DATA_FOLDER, filename),\n",
    "                usecols=['artist', 'title', 'lyrics'])\n",
    "        df = pd.concat([df, temp_df])\n",
    "\n",
    "df.head()"
   ]
  },
  {
   "cell_type": "code",
   "execution_count": 5,
   "metadata": {},
   "outputs": [
    {
     "data": {
      "text/plain": [
       "artist\n",
       "Travis Scott    100\n",
       "The Beatles     100\n",
       "Queen           100\n",
       "Name: count, dtype: int64"
      ]
     },
     "execution_count": 5,
     "metadata": {},
     "output_type": "execute_result"
    }
   ],
   "source": [
    "df.artist.value_counts()"
   ]
  },
  {
   "cell_type": "code",
   "execution_count": 6,
   "metadata": {},
   "outputs": [],
   "source": [
    "def clean_up_text(sentence):\n",
    "    sentence = str(sentence).lower()\n",
    "    sentence = re.sub(\"\\[.*\\]\", \"\", sentence)  # remove sections markings in brakets\n",
    "    sentence = re.sub(r'[^\\w]', ' ', sentence)  # romove punctuation\n",
    "    sentence = re.sub(r'[0-9]', '', sentence)  # remove numbers\n",
    "    sentence = re.sub(r'\\s[a-z]\\s', ' ', sentence)  # remove single characters\n",
    "    sentence = re.sub(r'^[a-z]\\s', '', sentence)  # remove single characters from the start\n",
    "    sentence = re.sub(r'\\s+', ' ', sentence).strip()  # remove extra spaces\n",
    "\n",
    "    sentence =  re.sub(r'.* lyrics', '', sentence)\n",
    "    \n",
    "\n",
    "    return sentence\n",
    "\n",
    "df.lyrics = df.lyrics.apply(clean_up_text)\n",
    "df.lyrics = df.lyrics.apply(remove_stop_words)"
   ]
  },
  {
   "cell_type": "code",
   "execution_count": 7,
   "metadata": {},
   "outputs": [
    {
     "data": {
      "text/html": [
       "<div>\n",
       "<style scoped>\n",
       "    .dataframe tbody tr th:only-of-type {\n",
       "        vertical-align: middle;\n",
       "    }\n",
       "\n",
       "    .dataframe tbody tr th {\n",
       "        vertical-align: top;\n",
       "    }\n",
       "\n",
       "    .dataframe thead th {\n",
       "        text-align: right;\n",
       "    }\n",
       "</style>\n",
       "<table border=\"1\" class=\"dataframe\">\n",
       "  <thead>\n",
       "    <tr style=\"text-align: right;\">\n",
       "      <th></th>\n",
       "      <th>artist</th>\n",
       "      <th>title</th>\n",
       "      <th>lyrics</th>\n",
       "    </tr>\n",
       "  </thead>\n",
       "  <tbody>\n",
       "    <tr>\n",
       "      <th>0</th>\n",
       "      <td>Travis Scott</td>\n",
       "      <td>16 Chapels</td>\n",
       "      <td>know feel like floating night slow move groove...</td>\n",
       "    </tr>\n",
       "    <tr>\n",
       "      <th>1</th>\n",
       "      <td>Travis Scott</td>\n",
       "      <td>3500</td>\n",
       "      <td>lyrics bandana wrapped wrapped round head band...</td>\n",
       "    </tr>\n",
       "    <tr>\n",
       "      <th>2</th>\n",
       "      <td>Travis Scott</td>\n",
       "      <td>5% TINT</td>\n",
       "      <td>creeping window fore come outside got took end...</td>\n",
       "    </tr>\n",
       "    <tr>\n",
       "      <th>3</th>\n",
       "      <td>Travis Scott</td>\n",
       "      <td>90210</td>\n",
       "      <td>lyrics dean poppin yo travis mhm ooh ooh ooh o...</td>\n",
       "    </tr>\n",
       "    <tr>\n",
       "      <th>4</th>\n",
       "      <td>The Beatles</td>\n",
       "      <td>A Day in the Life</td>\n",
       "      <td>read news today oh boy lucky man made grade th...</td>\n",
       "    </tr>\n",
       "  </tbody>\n",
       "</table>\n",
       "</div>"
      ],
      "text/plain": [
       "         artist              title   \n",
       "0  Travis Scott         16 Chapels  \\\n",
       "1  Travis Scott               3500   \n",
       "2  Travis Scott            5% TINT   \n",
       "3  Travis Scott              90210   \n",
       "4   The Beatles  A Day in the Life   \n",
       "\n",
       "                                              lyrics  \n",
       "0  know feel like floating night slow move groove...  \n",
       "1  lyrics bandana wrapped wrapped round head band...  \n",
       "2  creeping window fore come outside got took end...  \n",
       "3  lyrics dean poppin yo travis mhm ooh ooh ooh o...  \n",
       "4  read news today oh boy lucky man made grade th...  "
      ]
     },
     "execution_count": 7,
     "metadata": {},
     "output_type": "execute_result"
    }
   ],
   "source": [
    "df = df.sort_values(by='title')\n",
    "df = df.reset_index(drop=True)\n",
    "df.head()"
   ]
  },
  {
   "attachments": {},
   "cell_type": "markdown",
   "metadata": {},
   "source": [
    "**lets get those embeddings**"
   ]
  },
  {
   "cell_type": "code",
   "execution_count": 29,
   "metadata": {},
   "outputs": [
    {
     "name": "stderr",
     "output_type": "stream",
     "text": [
      "Some weights of the model checkpoint at roberta-base were not used when initializing RobertaModel: ['lm_head.bias', 'lm_head.dense.bias', 'lm_head.layer_norm.weight', 'lm_head.decoder.weight', 'lm_head.dense.weight', 'lm_head.layer_norm.bias']\n",
      "- This IS expected if you are initializing RobertaModel from the checkpoint of a model trained on another task or with another architecture (e.g. initializing a BertForSequenceClassification model from a BertForPreTraining model).\n",
      "- This IS NOT expected if you are initializing RobertaModel from the checkpoint of a model that you expect to be exactly identical (initializing a BertForSequenceClassification model from a BertForSequenceClassification model).\n"
     ]
    },
    {
     "data": {
      "text/html": [
       "<div>\n",
       "<style scoped>\n",
       "    .dataframe tbody tr th:only-of-type {\n",
       "        vertical-align: middle;\n",
       "    }\n",
       "\n",
       "    .dataframe tbody tr th {\n",
       "        vertical-align: top;\n",
       "    }\n",
       "\n",
       "    .dataframe thead th {\n",
       "        text-align: right;\n",
       "    }\n",
       "</style>\n",
       "<table border=\"1\" class=\"dataframe\">\n",
       "  <thead>\n",
       "    <tr style=\"text-align: right;\">\n",
       "      <th></th>\n",
       "      <th>vectors</th>\n",
       "    </tr>\n",
       "  </thead>\n",
       "  <tbody>\n",
       "    <tr>\n",
       "      <th>0</th>\n",
       "      <td>[tensor(0.0428), tensor(-0.0517), tensor(0.122...</td>\n",
       "    </tr>\n",
       "    <tr>\n",
       "      <th>1</th>\n",
       "      <td>[tensor(-0.0514), tensor(-0.0310), tensor(0.10...</td>\n",
       "    </tr>\n",
       "    <tr>\n",
       "      <th>2</th>\n",
       "      <td>[tensor(-0.0152), tensor(-0.0518), tensor(0.13...</td>\n",
       "    </tr>\n",
       "    <tr>\n",
       "      <th>3</th>\n",
       "      <td>[tensor(0.0536), tensor(-0.0091), tensor(0.084...</td>\n",
       "    </tr>\n",
       "    <tr>\n",
       "      <th>4</th>\n",
       "      <td>[tensor(0.0712), tensor(-0.1449), tensor(0.043...</td>\n",
       "    </tr>\n",
       "  </tbody>\n",
       "</table>\n",
       "</div>"
      ],
      "text/plain": [
       "                                             vectors\n",
       "0  [tensor(0.0428), tensor(-0.0517), tensor(0.122...\n",
       "1  [tensor(-0.0514), tensor(-0.0310), tensor(0.10...\n",
       "2  [tensor(-0.0152), tensor(-0.0518), tensor(0.13...\n",
       "3  [tensor(0.0536), tensor(-0.0091), tensor(0.084...\n",
       "4  [tensor(0.0712), tensor(-0.1449), tensor(0.043..."
      ]
     },
     "execution_count": 29,
     "metadata": {},
     "output_type": "execute_result"
    }
   ],
   "source": [
    "import torch\n",
    "from transformers import RobertaTokenizer, RobertaModel\n",
    "\n",
    "tokenizer = RobertaTokenizer.from_pretrained('roberta-base')\n",
    "embedding_model = RobertaModel.from_pretrained('roberta-base')\n",
    "\n",
    "\n",
    "def embed(sentence):\n",
    "    tokens = tokenizer.encode_plus(sentence, add_special_tokens=True, max_length=512, return_token_type_ids=True, padding=\"max_length\", truncation=True)\n",
    "    input_ids = torch.tensor(tokens['input_ids']).unsqueeze(0)\n",
    "    attention_mask = torch.tensor(tokens['attention_mask']).unsqueeze(0)\n",
    "    with torch.no_grad():\n",
    "        outputs = embedding_model(input_ids, attention_mask=attention_mask)\n",
    "    return torch.mean(outputs[0], dim=1).squeeze()\n",
    "\n",
    "\n",
    "df_dataset = pd.DataFrame()\n",
    "df_dataset['vectors'] = df['lyrics'].apply(embed)\n",
    "df_dataset.head()"
   ]
  },
  {
   "attachments": {},
   "cell_type": "markdown",
   "metadata": {},
   "source": [
    "**normalizing the data**"
   ]
  },
  {
   "cell_type": "code",
   "execution_count": 45,
   "metadata": {},
   "outputs": [
    {
     "data": {
      "text/html": [
       "<div>\n",
       "<style scoped>\n",
       "    .dataframe tbody tr th:only-of-type {\n",
       "        vertical-align: middle;\n",
       "    }\n",
       "\n",
       "    .dataframe tbody tr th {\n",
       "        vertical-align: top;\n",
       "    }\n",
       "\n",
       "    .dataframe thead th {\n",
       "        text-align: right;\n",
       "    }\n",
       "</style>\n",
       "<table border=\"1\" class=\"dataframe\">\n",
       "  <thead>\n",
       "    <tr style=\"text-align: right;\">\n",
       "      <th></th>\n",
       "      <th>vectors</th>\n",
       "    </tr>\n",
       "  </thead>\n",
       "  <tbody>\n",
       "    <tr>\n",
       "      <th>0</th>\n",
       "      <td>[tensor(0.6068), tensor(0.5111), tensor(0.5536...</td>\n",
       "    </tr>\n",
       "    <tr>\n",
       "      <th>1</th>\n",
       "      <td>[tensor(0.4477), tensor(0.5359), tensor(0.5182...</td>\n",
       "    </tr>\n",
       "    <tr>\n",
       "      <th>2</th>\n",
       "      <td>[tensor(0.5088), tensor(0.5110), tensor(0.5693...</td>\n",
       "    </tr>\n",
       "    <tr>\n",
       "      <th>3</th>\n",
       "      <td>[tensor(0.6251), tensor(0.5623), tensor(0.4821...</td>\n",
       "    </tr>\n",
       "    <tr>\n",
       "      <th>4</th>\n",
       "      <td>[tensor(0.6547), tensor(0.3992), tensor(0.4049...</td>\n",
       "    </tr>\n",
       "  </tbody>\n",
       "</table>\n",
       "</div>"
      ],
      "text/plain": [
       "                                             vectors\n",
       "0  [tensor(0.6068), tensor(0.5111), tensor(0.5536...\n",
       "1  [tensor(0.4477), tensor(0.5359), tensor(0.5182...\n",
       "2  [tensor(0.5088), tensor(0.5110), tensor(0.5693...\n",
       "3  [tensor(0.6251), tensor(0.5623), tensor(0.4821...\n",
       "4  [tensor(0.6547), tensor(0.3992), tensor(0.4049..."
      ]
     },
     "execution_count": 45,
     "metadata": {},
     "output_type": "execute_result"
    }
   ],
   "source": [
    "input_data = df_dataset['vectors'].to_list()\n",
    "input_data = torch.stack(input_data)\n",
    "\n",
    "xmax = torch.max(input_data)\n",
    "xmin = torch.min(input_data)\n",
    "\n",
    "def normalize(input_data):\n",
    "    return (input_data - xmin) / (xmax - xmin)\n",
    "\n",
    "df_dataset['vectors'] = df_dataset['vectors'].apply(normalize)\n",
    "df_dataset.head()"
   ]
  },
  {
   "cell_type": "code",
   "execution_count": 46,
   "metadata": {},
   "outputs": [
    {
     "data": {
      "text/plain": [
       "array(['Travis Scott', 'The Beatles', 'Queen'], dtype=object)"
      ]
     },
     "execution_count": 46,
     "metadata": {},
     "output_type": "execute_result"
    }
   ],
   "source": [
    "df.artist.unique()"
   ]
  },
  {
   "cell_type": "code",
   "execution_count": 47,
   "metadata": {},
   "outputs": [
    {
     "data": {
      "text/plain": [
       "{'Travis Scott': tensor([1., 0., 0.]),\n",
       " 'Queen': tensor([0., 1., 0.]),\n",
       " 'The Beatles': tensor([0., 0., 1.])}"
      ]
     },
     "execution_count": 47,
     "metadata": {},
     "output_type": "execute_result"
    }
   ],
   "source": [
    "# string to tensor\n",
    "stt = {s: torch.eye(len(ARTISTS))[n] for n, s in enumerate(ARTISTS)}\n",
    "stt"
   ]
  },
  {
   "cell_type": "code",
   "execution_count": 48,
   "metadata": {},
   "outputs": [
    {
     "data": {
      "text/plain": [
       "{'tensor([1., 0., 0.])': 'Travis Scott',\n",
       " 'tensor([0., 1., 0.])': 'Queen',\n",
       " 'tensor([0., 0., 1.])': 'The Beatles'}"
      ]
     },
     "execution_count": 48,
     "metadata": {},
     "output_type": "execute_result"
    }
   ],
   "source": [
    "# tesnor to string\n",
    "tts = {str(v): k for k, v in stt.items()}\n",
    "tts"
   ]
  },
  {
   "cell_type": "code",
   "execution_count": 76,
   "metadata": {},
   "outputs": [
    {
     "data": {
      "text/plain": [
       "(tensor([0., 1., 0.]), 'Travis Scott')"
      ]
     },
     "execution_count": 76,
     "metadata": {},
     "output_type": "execute_result"
    }
   ],
   "source": [
    "def encode_label(label: str):\n",
    "    return stt[label]\n",
    "\n",
    "def decode_label(label: torch.tensor) -> str:\n",
    "    return tts[str(label)]\n",
    "\n",
    "encode_label(\"Queen\"), decode_label(torch.tensor([1., 0., 0.]))"
   ]
  },
  {
   "cell_type": "code",
   "execution_count": 50,
   "metadata": {},
   "outputs": [
    {
     "data": {
      "text/html": [
       "<div>\n",
       "<style scoped>\n",
       "    .dataframe tbody tr th:only-of-type {\n",
       "        vertical-align: middle;\n",
       "    }\n",
       "\n",
       "    .dataframe tbody tr th {\n",
       "        vertical-align: top;\n",
       "    }\n",
       "\n",
       "    .dataframe thead th {\n",
       "        text-align: right;\n",
       "    }\n",
       "</style>\n",
       "<table border=\"1\" class=\"dataframe\">\n",
       "  <thead>\n",
       "    <tr style=\"text-align: right;\">\n",
       "      <th></th>\n",
       "      <th>vectors</th>\n",
       "      <th>artist</th>\n",
       "    </tr>\n",
       "  </thead>\n",
       "  <tbody>\n",
       "    <tr>\n",
       "      <th>0</th>\n",
       "      <td>[tensor(0.6068), tensor(0.5111), tensor(0.5536...</td>\n",
       "      <td>[tensor(1.), tensor(0.), tensor(0.)]</td>\n",
       "    </tr>\n",
       "    <tr>\n",
       "      <th>1</th>\n",
       "      <td>[tensor(0.4477), tensor(0.5359), tensor(0.5182...</td>\n",
       "      <td>[tensor(1.), tensor(0.), tensor(0.)]</td>\n",
       "    </tr>\n",
       "    <tr>\n",
       "      <th>2</th>\n",
       "      <td>[tensor(0.5088), tensor(0.5110), tensor(0.5693...</td>\n",
       "      <td>[tensor(1.), tensor(0.), tensor(0.)]</td>\n",
       "    </tr>\n",
       "    <tr>\n",
       "      <th>3</th>\n",
       "      <td>[tensor(0.6251), tensor(0.5623), tensor(0.4821...</td>\n",
       "      <td>[tensor(1.), tensor(0.), tensor(0.)]</td>\n",
       "    </tr>\n",
       "    <tr>\n",
       "      <th>4</th>\n",
       "      <td>[tensor(0.6547), tensor(0.3992), tensor(0.4049...</td>\n",
       "      <td>[tensor(0.), tensor(0.), tensor(1.)]</td>\n",
       "    </tr>\n",
       "  </tbody>\n",
       "</table>\n",
       "</div>"
      ],
      "text/plain": [
       "                                             vectors   \n",
       "0  [tensor(0.6068), tensor(0.5111), tensor(0.5536...  \\\n",
       "1  [tensor(0.4477), tensor(0.5359), tensor(0.5182...   \n",
       "2  [tensor(0.5088), tensor(0.5110), tensor(0.5693...   \n",
       "3  [tensor(0.6251), tensor(0.5623), tensor(0.4821...   \n",
       "4  [tensor(0.6547), tensor(0.3992), tensor(0.4049...   \n",
       "\n",
       "                                 artist  \n",
       "0  [tensor(1.), tensor(0.), tensor(0.)]  \n",
       "1  [tensor(1.), tensor(0.), tensor(0.)]  \n",
       "2  [tensor(1.), tensor(0.), tensor(0.)]  \n",
       "3  [tensor(1.), tensor(0.), tensor(0.)]  \n",
       "4  [tensor(0.), tensor(0.), tensor(1.)]  "
      ]
     },
     "execution_count": 50,
     "metadata": {},
     "output_type": "execute_result"
    }
   ],
   "source": [
    "df_dataset['artist'] = df['artist'].apply(encode_label)\n",
    "df_dataset.head()"
   ]
  },
  {
   "attachments": {},
   "cell_type": "markdown",
   "metadata": {},
   "source": [
    "**model??**\n",
    "\n",
    "let's see if you really trap"
   ]
  },
  {
   "cell_type": "code",
   "execution_count": 51,
   "metadata": {},
   "outputs": [],
   "source": [
    "import torch\n",
    "import torch.nn as nn\n",
    "import torch.nn.functional as F\n",
    "from torch.utils.data import Dataset, DataLoader"
   ]
  },
  {
   "cell_type": "code",
   "execution_count": 52,
   "metadata": {},
   "outputs": [],
   "source": [
    "device = torch.device(\"cuda\" if torch.cuda.is_available() else \"cpu\")"
   ]
  },
  {
   "cell_type": "code",
   "execution_count": 53,
   "metadata": {},
   "outputs": [],
   "source": [
    "class Net(nn.Module):\n",
    "\n",
    "    def __init__(self, input_units, output_units):\n",
    "        super().__init__()\n",
    "        self.fc1 = nn.Linear(input_units, 1024)\n",
    "        self.fc2 = nn.Linear(1024, 2048)\n",
    "        self.fc3 = nn.Linear(2048, 4096)\n",
    "        self.fc4 = nn.Linear(4096, 2048)\n",
    "        self.fc5 = nn.Linear(2048, 2048)\n",
    "        self.fc6 = nn.Linear(2048, 84)\n",
    "        self.fc7 = nn.Linear(84, output_units)\n",
    "\n",
    "    def forward(self, x):\n",
    "        x = F.relu(self.fc1(x))\n",
    "        x = F.relu(self.fc2(x))\n",
    "        x = F.relu(self.fc3(x))\n",
    "        x = F.relu(self.fc4(x))\n",
    "        x = F.relu(self.fc5(x))\n",
    "        x = F.relu(self.fc6(x))\n",
    "        x = F.softmax(self.fc7(x), dim=1)\n",
    "        return x"
   ]
  },
  {
   "attachments": {},
   "cell_type": "markdown",
   "metadata": {},
   "source": [
    "**turn of the autotune(copilot)\\\n",
    "lets see if you really rap**"
   ]
  },
  {
   "cell_type": "code",
   "execution_count": 54,
   "metadata": {},
   "outputs": [],
   "source": [
    "# initialize model\n",
    "net = Net(768, 3).to(device)\n",
    "epoch_count = 0"
   ]
  },
  {
   "cell_type": "code",
   "execution_count": 65,
   "metadata": {},
   "outputs": [],
   "source": [
    "# CONSTANTS\n",
    "torch.manual_seed(42)\n",
    "train_size = 0.8\n",
    "learning_rate = 0.000001\n",
    "num_epochs = 20"
   ]
  },
  {
   "cell_type": "code",
   "execution_count": 56,
   "metadata": {},
   "outputs": [],
   "source": [
    "class MyDataset(Dataset):\n",
    "    def __init__(self, dataframe):\n",
    "        self.data = dataframe.values\n",
    "\n",
    "    def __len__(self):\n",
    "        return len(self.data)\n",
    "\n",
    "    def __getitem__(self, idx):\n",
    "        return torch.stack(list(self.data[idx, 0])), torch.stack(list(self.data[idx, -1]))\n",
    "    \n",
    "split = int(train_size * len(df_dataset))\n",
    "train_dataset = MyDataset(df_dataset[:split])\n",
    "test_dataset = MyDataset(df_dataset[split:])\n",
    "\n",
    "criterion = nn.CrossEntropyLoss()\n",
    "optimizer = torch.optim.Adam(net.parameters(), lr=learning_rate)"
   ]
  },
  {
   "cell_type": "code",
   "execution_count": 57,
   "metadata": {},
   "outputs": [],
   "source": [
    "train_dataloader = DataLoader(train_dataset, batch_size=32, shuffle=True)\n",
    "test_dataloader = DataLoader(test_dataset, batch_size=32, shuffle=True)"
   ]
  },
  {
   "attachments": {},
   "cell_type": "markdown",
   "metadata": {},
   "source": [
    "**training**"
   ]
  },
  {
   "cell_type": "code",
   "execution_count": 59,
   "metadata": {},
   "outputs": [],
   "source": [
    "def multi_class_accuracy(preds: torch.Tensor, target: torch.Tensor) -> float:\n",
    "    return ((torch.argmax(preds, dim=1) == torch.argmax(target, dim=1)) * 1).sum()\\\n",
    "        / target.shape[0]"
   ]
  },
  {
   "cell_type": "code",
   "execution_count": 60,
   "metadata": {},
   "outputs": [],
   "source": [
    "def train_pass(\n",
    "    model: torch.nn.Module,\n",
    "    dataset: list,\n",
    "    loss_function: torch.nn.Module,\n",
    "    optimizer: torch.optim.Optimizer,\n",
    "    accuracy_function,\n",
    "    device: torch.device=device,\n",
    "    display: bool=False) -> dict:\n",
    "    \n",
    "    model.train()\n",
    "    train_acc, train_loss = 0, 0\n",
    "    N = len(dataset)\n",
    "\n",
    "    for X, y in dataset:\n",
    "        X, y = X.to(device).float(), y.to(device).float()\n",
    "        # forward pass\n",
    "        y_pred = model(X)\n",
    "        loss = loss_function(input=y_pred, target=y)\n",
    "\n",
    "        train_acc += accuracy_function(preds=y_pred, target=y)\n",
    "        train_loss += loss\n",
    "\n",
    "        # backward pass\n",
    "        optimizer.zero_grad()\n",
    "        loss.backward()\n",
    "        optimizer.step()\n",
    "\n",
    "    train_loss /= N\n",
    "    train_acc /= N\n",
    "\n",
    "    if display:\n",
    "        print(f'🔨Train loss: {train_loss:.4f} || Train acc: {train_acc:.4f}')\n",
    "\n",
    "    results = {\n",
    "        'train_loss': train_loss,\n",
    "        'train_accuracy': train_acc\n",
    "    }\n",
    "\n",
    "    return results\n",
    "\n",
    "\n",
    "def test_pass(\n",
    "    dataset,\n",
    "    model: torch.nn.Module,\n",
    "    loss_function: torch.nn.Module,\n",
    "    accuracy_function,\n",
    "    device: torch.device=device,\n",
    "    display: bool=False) -> dict:\n",
    "\n",
    "    test_loss, test_acc = 0, 0\n",
    "    N = len(dataset)\n",
    "\n",
    "    for batch, (X, y) in enumerate(dataset):\n",
    "        \n",
    "        X, y = X.to(device).float(), y.to(device).float()\n",
    "\n",
    "        test_pred = model(X)\n",
    "        test_loss += loss_function(input=test_pred, target=y)\n",
    "\n",
    "        test_acc += accuracy_function(preds=test_pred, target=y)\n",
    "\n",
    "    test_loss /= N\n",
    "    test_acc /= N\n",
    "    if display:\n",
    "        print(f'🧐Test loss: {test_loss:.4f} || Test acc: {test_acc:.4f}')\n",
    "\n",
    "    results = {\n",
    "        'test_loss': test_loss.cpu().detach().float(),\n",
    "        'test_accuracy': test_acc.cpu().detach().float()\n",
    "    }\n",
    "\n",
    "    return results"
   ]
  },
  {
   "cell_type": "code",
   "execution_count": 67,
   "metadata": {},
   "outputs": [
    {
     "name": "stdout",
     "output_type": "stream",
     "text": [
      "Epoch 1/20\n",
      "🔨Train loss: 0.7294 || Train acc: 0.8477\n",
      "🧐Test loss: 0.7743 || Test acc: 0.7679\n",
      "Epoch 2/20\n",
      "🔨Train loss: 0.7152 || Train acc: 0.8672\n",
      "🧐Test loss: 0.7715 || Test acc: 0.7679\n",
      "Epoch 3/20\n",
      "🔨Train loss: 0.7214 || Train acc: 0.8516\n",
      "🧐Test loss: 0.7661 || Test acc: 0.7723\n",
      "Epoch 4/20\n",
      "🔨Train loss: 0.7205 || Train acc: 0.8555\n",
      "🧐Test loss: 0.7923 || Test acc: 0.7656\n",
      "Epoch 5/20\n",
      "🔨Train loss: 0.7531 || Train acc: 0.7852\n",
      "🧐Test loss: 0.7720 || Test acc: 0.7701\n",
      "Epoch 6/20\n",
      "🔨Train loss: 0.7469 || Train acc: 0.8008\n",
      "🧐Test loss: 0.8580 || Test acc: 0.7188\n",
      "Epoch 7/20\n",
      "🔨Train loss: 0.7261 || Train acc: 0.8320\n",
      "🧐Test loss: 0.7797 || Test acc: 0.7679\n",
      "Epoch 8/20\n",
      "🔨Train loss: 0.7330 || Train acc: 0.8281\n",
      "🧐Test loss: 0.7927 || Test acc: 0.7500\n",
      "Epoch 9/20\n",
      "🔨Train loss: 0.7498 || Train acc: 0.8125\n",
      "🧐Test loss: 0.7852 || Test acc: 0.7522\n",
      "Epoch 10/20\n",
      "🔨Train loss: 0.7030 || Train acc: 0.8867\n",
      "🧐Test loss: 0.7931 || Test acc: 0.7522\n",
      "Epoch 11/20\n",
      "🔨Train loss: 0.7529 || Train acc: 0.7930\n",
      "🧐Test loss: 0.7798 || Test acc: 0.7723\n",
      "Epoch 12/20\n",
      "🔨Train loss: 0.7380 || Train acc: 0.8203\n",
      "🧐Test loss: 0.7821 || Test acc: 0.7634\n",
      "Epoch 13/20\n",
      "🔨Train loss: 0.7133 || Train acc: 0.8477\n",
      "🧐Test loss: 0.7918 || Test acc: 0.7522\n",
      "Epoch 14/20\n",
      "🔨Train loss: 0.7113 || Train acc: 0.8516\n",
      "🧐Test loss: 0.7733 || Test acc: 0.7500\n",
      "Epoch 15/20\n",
      "🔨Train loss: 0.7008 || Train acc: 0.8711\n",
      "🧐Test loss: 0.7725 || Test acc: 0.7656\n",
      "Epoch 16/20\n",
      "🔨Train loss: 0.7005 || Train acc: 0.8711\n",
      "🧐Test loss: 0.7691 || Test acc: 0.7768\n",
      "Epoch 17/20\n",
      "🔨Train loss: 0.7002 || Train acc: 0.8594\n",
      "🧐Test loss: 0.7679 || Test acc: 0.7545\n",
      "Epoch 18/20\n",
      "🔨Train loss: 0.6992 || Train acc: 0.8711\n",
      "🧐Test loss: 0.7699 || Test acc: 0.7701\n",
      "Epoch 19/20\n",
      "🔨Train loss: 0.6928 || Train acc: 0.8867\n",
      "🧐Test loss: 0.7758 || Test acc: 0.7656\n",
      "Epoch 20/20\n",
      "🔨Train loss: 0.7000 || Train acc: 0.8750\n",
      "🧐Test loss: 0.7667 || Test acc: 0.7522\n"
     ]
    }
   ],
   "source": [
    "for n, epoch in enumerate(range(num_epochs)):\n",
    "    print(f'Epoch {epoch_count + n+1}/{epoch_count + num_epochs}')\n",
    "    train_results = train_pass(\n",
    "        model=net,\n",
    "        dataset=train_dataloader,\n",
    "        loss_function=criterion,\n",
    "        optimizer=optimizer,\n",
    "        accuracy_function=multi_class_accuracy,\n",
    "        device=device,\n",
    "        display=True\n",
    "    )\n",
    "\n",
    "    test_results = test_pass(\n",
    "        dataset=test_dataloader,\n",
    "        model=net,\n",
    "        loss_function=criterion,\n",
    "        accuracy_function=multi_class_accuracy,\n",
    "        device=device,\n",
    "        display=True\n",
    "    )"
   ]
  },
  {
   "attachments": {},
   "cell_type": "markdown",
   "metadata": {},
   "source": [
    "**markus? which markus, our markus?**\n",
    "\n",
    "**lets decode**\n",
    "\n",
    "**lyrics -> embeddings -> model -> class(one hot) -> artist name**"
   ]
  },
  {
   "cell_type": "code",
   "execution_count": 68,
   "metadata": {},
   "outputs": [],
   "source": [
    "mafia_path = \"../data/inference_data/MAFIA.txt\"\n",
    "all_my_love_path = \"../data/inference_data/all_my_loving.txt\"\n",
    "bohemian_path = \"../data/inference_data/in_39.txt\""
   ]
  },
  {
   "attachments": {},
   "cell_type": "markdown",
   "metadata": {},
   "source": [
    "**issue with this prediction**"
   ]
  },
  {
   "cell_type": "code",
   "execution_count": 89,
   "metadata": {},
   "outputs": [],
   "source": [
    "def predict(model, text, device=device):\n",
    "    X = normalize(embed(clean_up_text(text)))\n",
    "    model.eval()\n",
    "    with torch.no_grad():\n",
    "        X = X.unsqueeze(dim=0).to(device).float()\n",
    "        y_pred = model(X)\n",
    "        print(y_pred)\n",
    "        y_pred = torch.zeros_like(y_pred).scatter_(\n",
    "            1, torch.argmax(y_pred, dim=1).unsqueeze(dim=1), 1)\n",
    "        return decode_label(y_pred.squeeze(dim=0))"
   ]
  },
  {
   "cell_type": "code",
   "execution_count": 90,
   "metadata": {},
   "outputs": [
    {
     "name": "stdout",
     "output_type": "stream",
     "text": [
      "tensor(1.2837) tensor(0.3108)\n",
      "tensor([[0.1432, 0.8512, 0.0056]])\n",
      "Artist: Travis Scott, prediction: Queen\n",
      "tensor(1.2908) tensor(0.3309)\n",
      "tensor([[0.0211, 0.9715, 0.0074]])\n",
      "Artis: The Beatles, prediction: Queen\n",
      "tensor(1.3154) tensor(0.3190)\n",
      "tensor([[0.0250, 0.9677, 0.0073]])\n",
      "Artist: Queen, prediction: Queen\n"
     ]
    }
   ],
   "source": [
    "travis_lyrics = open(mafia_path, 'r').read()\n",
    "beatles_lyrics = open(all_my_love_path, 'r').read()\n",
    "queen_lyrics = open(bohemian_path, 'r').read()\n",
    "\n",
    "print('Artist: Travis Scott, prediction:', predict(net, travis_lyrics))\n",
    "print('Artis: The Beatles, prediction:', predict(net, beatles_lyrics))\n",
    "print('Artist: Queen, prediction:', predict(net, queen_lyrics))"
   ]
  },
  {
   "cell_type": "code",
   "execution_count": 84,
   "metadata": {},
   "outputs": [
    {
     "name": "stdout",
     "output_type": "stream",
     "text": [
      "tensor([[0.0765, 0.9172, 0.0063]])\n"
     ]
    },
    {
     "data": {
      "text/plain": [
       "'Queen'"
      ]
     },
     "execution_count": 84,
     "metadata": {},
     "output_type": "execute_result"
    }
   ],
   "source": [
    "lyrics = '''\n",
    "Mama, just killed a man\n",
    "Put a gun against his head, pulled my trigger, now he's dead\n",
    "Mama, life had just begun\n",
    "But now I've gone and thrown it all away\n",
    "Mama, ooh, didn't mean to make you cry\n",
    "If I'm not back again this time tomorrow\n",
    "Carry on, carry on as if nothing really matters\n",
    "\n",
    "[Verse 2]\n",
    "Too late, my time has come\n",
    "Sends shivers down my spine, body's aching all the time\n",
    "Goodbye, everybody, I've got to go\n",
    "Gotta leave you all behind and face the truth\n",
    "Mama, ooh (Any way the wind blows)\n",
    "I don't wanna die\n",
    "I sometimes wish I'd never been born at all\n",
    "[Guitar Solo]\n",
    "\n",
    "[Verse 3]\n",
    "I see a little silhouetto of a man\n",
    "Scaramouche, Scaramouche, will you do the Fandango?\n",
    "Thunderbolt and lightning, very, very frightening me\n",
    "(Galileo) Galileo, (Galileo) Galileo, Galileo Figaro magnifico\n",
    "But I'm just a poor boy, nobody loves me\n",
    "He's just a poor boy from a poor family\n",
    "Spare him his life from this monstrosity\n",
    "Easy come, easy go, will you let me go?\n",
    "Bismillah! No, we will not let you go\n",
    "(Let him go) Bismillah! We will not let you go\n",
    "(Let him go) Bismillah! We will not let you go\n",
    "(Let me go) Will not let you go\n",
    "(Let me go) Will not let you go\n",
    "(Never, never, never, never let me go) Ah\n",
    "No, no, no, no, no, no, no\n",
    "(Oh, mamma mia, mamma mia) Mamma mia, let me go\n",
    "Beelzebub has a devil put aside for me, for me, for me!\n",
    "\n",
    "[Verse 4]\n",
    "So you think you can stone me and spit in my eye?\n",
    "So you think you can love me and leave me to die?\n",
    "Oh, baby, can't do this to me, baby!\n",
    "Just gotta get out, just gotta get right outta here\n",
    "[Outro]\n",
    "(Ooh)\n",
    "(Ooh, yeah, ooh, yeah)\n",
    "Nothing really matters, anyone can see\n",
    "Nothing really matters\n",
    "Nothing really matters to me\n",
    "Any way the wind blows674Embed\n",
    "'''\n",
    "\n",
    "predict(net, lyrics)"
   ]
  },
  {
   "attachments": {},
   "cell_type": "markdown",
   "metadata": {},
   "source": [
    "**let's save the model**"
   ]
  },
  {
   "cell_type": "code",
   "execution_count": 59,
   "metadata": {},
   "outputs": [],
   "source": [
    "torch.save(net.state_dict(), '../models/lyrics_classifier_level_1.pt')"
   ]
  },
  {
   "cell_type": "code",
   "execution_count": null,
   "metadata": {},
   "outputs": [],
   "source": []
  }
 ],
 "metadata": {
  "kernelspec": {
   "display_name": "samsung-venv",
   "language": "python",
   "name": "python3"
  },
  "language_info": {
   "codemirror_mode": {
    "name": "ipython",
    "version": 3
   },
   "file_extension": ".py",
   "mimetype": "text/x-python",
   "name": "python",
   "nbconvert_exporter": "python",
   "pygments_lexer": "ipython3",
   "version": "3.10.6"
  },
  "orig_nbformat": 4,
  "vscode": {
   "interpreter": {
    "hash": "e45c6efbcd79cd7473ed712f971cb7abd2c2692e182cafe90473b71e016b4287"
   }
  }
 },
 "nbformat": 4,
 "nbformat_minor": 2
}
